{
 "cells": [
  {
   "cell_type": "markdown",
   "metadata": {
    "jupyter": {
     "outputs_hidden": true
    }
   },
   "source": [
    "# Data Exploration & Dataset Creation"
   ]
  },
  {
   "cell_type": "code",
   "execution_count": 1,
   "metadata": {},
   "outputs": [],
   "source": [
    "import pandas as pd\n",
    "import numpy as np\n",
    "from tqdm import tqdm\n",
    "import matplotlib.pyplot as plt\n",
    "\n",
    "from globals import movielens_path, item_metadata_file, train_set_file, val_set_file, test_set_file, seed, user_ratings_file, user_embeddings_file, full_matrix_file, imdb_path, movie_imdb_df_file\n",
    "from util import multi_hot_encode\n",
    "import warnings"
   ]
  },
  {
   "cell_type": "markdown",
   "metadata": {},
   "source": [
    "# Parameters:"
   ]
  },
  {
   "cell_type": "code",
   "execution_count": 2,
   "metadata": {},
   "outputs": [],
   "source": [
    "extract_features = True\n",
    "recalculate_metadata = True\n",
    "use_audio = False\n",
    "\n",
    "LIMIT_USERS = None\n",
    "MIN_VOTES_PER_ITEM = 1200\n",
    "MIN_VOTES_PER_USER = 50\n",
    "MAX_VOTES_PER_USER = 300\n",
    "HARD_LIMIT_ITEMS = 1200\n",
    "HARD_LIMIT_USERS = 2000\n",
    "MIN_YEAR = 1980\n",
    "\n",
    "save_user_ratings = True\n",
    "use_genome_tags = True\n",
    "create_user_embeddings_too = True\n",
    "\n",
    "val_size = 0.15\n",
    "test_size = 0.15"
   ]
  },
  {
   "cell_type": "markdown",
   "metadata": {},
   "source": [
    "## Define some functions"
   ]
  },
  {
   "cell_type": "code",
   "execution_count": 3,
   "metadata": {},
   "outputs": [],
   "source": [
    "def save_set(matrix: pd.DataFrame, name: str):\n",
    "    matrix.to_csv(name + '.csv', columns=['movieId', 'rating'], mode='w')\n",
    "\n",
    "def util_matrix_stats(matrix: pd.DataFrame):\n",
    "    print(f\"# users: {matrix.index.unique().shape[0]}\")\n",
    "    print(f\"# movies: {matrix['movieId'].unique().shape[0]}\")\n",
    "    print(f\"# ratings: {matrix.shape[0]}\")"
   ]
  },
  {
   "cell_type": "code",
   "execution_count": 4,
   "metadata": {},
   "outputs": [],
   "source": [
    "def load_user_ratings(movielens_data_folder, LIMIT_USERS=None, seed=None):\n",
    "    \"\"\" Load MovieLens data \"\"\"\n",
    "    # load movielens user reviews data\n",
    "    user_ratings = pd.read_csv(movielens_data_folder + 'ratings.csv',\n",
    "                               index_col='userId',\n",
    "                               usecols=['userId', 'movieId', 'rating', 'timestamp'],\n",
    "                               dtype={'userId': np.int32, 'movieId': np.int32, 'rating': np.float32})\n",
    "    if LIMIT_USERS is not None:\n",
    "        print('Limiting number of users to', LIMIT_USERS)\n",
    "        # user_ratings = user_ratings.loc[1: LIMIT_USERS]\n",
    "        user_ratings = user_ratings.loc[user_ratings.index.max() - LIMIT_USERS: user_ratings.index.max()]\n",
    "        user_ratings = user_ratings.loc[user_ratings.index.sample(n=LIMIT_USERS, random_state=seed)]\n",
    "\n",
    "    # load genome tags supplied with movielens\n",
    "    genometags = pd.read_csv(movielens_data_folder + 'genome-scores.csv',\n",
    "                             index_col='movieId',\n",
    "                             usecols=['movieId', 'tagId', 'relevance'],\n",
    "                             dtype={'movieId': np.int32, 'tagId': np.int32, 'relevance': np.float64})\n",
    "    genometags = genometags.pivot_table('relevance', index='movieId', columns='tagId')\n",
    "\n",
    "    # change movieId to IMDb ID, link movieIds with imdbIds\n",
    "    links = pd.read_csv(movielens_data_folder + 'links.csv',\n",
    "                        index_col='movieId',\n",
    "                        usecols=['movieId', 'imdbId'],\n",
    "                        dtype={'movieId': np.int32, 'imdbId': 'string'})\n",
    "    user_ratings['movieId'] = 'tt' + user_ratings['movieId'].map(links['imdbId'])\n",
    "    genometags.index = 'tt' + genometags.index.map(links['imdbId'])\n",
    "    genometags.rename({c: f'genome_{c}' for c in genometags.columns.tolist()}, inplace=True, axis=1)   # needed for concat to work later\n",
    "\n",
    "    return user_ratings, genometags"
   ]
  },
  {
   "cell_type": "code",
   "execution_count": 5,
   "metadata": {},
   "outputs": [],
   "source": [
    "def load_imdb_dfs(unique_movies: pd.Series, MIN_VOTES=100, MIN_YEAR=MIN_YEAR):\n",
    "    # load each file with tconst (title id) as index\n",
    "    print('Loading IMDB data...')\n",
    "    tconst_files = [\n",
    "        ('title.basics.tsv', None),\n",
    "        ('title.ratings.tsv', None)\n",
    "    ]\n",
    "    all_dfs = []\n",
    "    for file, usecols in tconst_files:\n",
    "        df = pd.read_csv(imdb_path + file, index_col='tconst',  usecols=usecols,\n",
    "                         sep='\\t', encoding='utf-8',\n",
    "                         keep_default_na=False, na_values=['\\\\N'])\n",
    "        all_dfs.append(df)\n",
    "\n",
    "    # combine all into one big fat DataFrame\n",
    "    print('concatenating...')\n",
    "    movies_df = pd.concat(all_dfs, axis=1)\n",
    "    print('Reducing size to movies given...')\n",
    "    movies_df = movies_df[(movies_df['titleType'].isin(['tvMovie', 'movie'])) &\n",
    "                          (movies_df.index.isin(unique_movies.index))]\n",
    "    print('done')\n",
    "\n",
    "    # fix NA and types afterwards as it is not supported for read_csv\n",
    "    movies_df['numVotes'] = movies_df['numVotes'].fillna(0).astype(np.uint16)\n",
    "    movies_df['isAdult'] = movies_df['isAdult'].astype(bool)\n",
    "    movies_df['startYear'] = movies_df['startYear'].fillna(0).astype(np.uint16)\n",
    "    movies_df['endYear'] = movies_df['endYear'].fillna(0).astype(np.uint16)\n",
    "    movies_df['genres'] = movies_df['genres'].fillna('').astype(str)\n",
    "\n",
    "    # filtering\n",
    "    movies_df = movies_df[(movies_df['numVotes'] >= MIN_VOTES) &\n",
    "                          (movies_df['startYear'] >= MIN_YEAR) &\n",
    "                          (~(movies_df['genres'].str.contains('Short', regex=False, na=False))) &\n",
    "                          (movies_df['genres'].str != '')]\n",
    "\n",
    "    print('Loading edges')\n",
    "    principals_df = pd.read_csv(imdb_path + 'title.principals.tsv',\n",
    "                                sep='\\t',\n",
    "                                encoding='utf-8',\n",
    "                                keep_default_na=False,\n",
    "                                na_values=['\\\\N'],\n",
    "                                index_col='tconst',\n",
    "                                usecols=['tconst', 'nconst', 'category'])\n",
    "    principals_df = principals_df[principals_df.index.isin(movies_df.index)]\n",
    "    principals_df = principals_df[principals_df['category'].isin(['actor', 'actress', 'writer', 'director', 'composer'])]\n",
    "\n",
    "    # print(movies_df)\n",
    "    # print(movies_df.shape)\n",
    "    # print(principals_df)\n",
    "    # print(principals_df.shape)\n",
    "\n",
    "    return movies_df, principals_df\n",
    "\n",
    "\n",
    "def load_imdb_metadata_features(unique_movies: pd.Series, MIN_APPEARANCES=5, save=True):\n",
    "    movies_df, principals_df = load_imdb_dfs(unique_movies)\n",
    "    \n",
    "    # reduce unique_movies to the ones in movies_df TODO\n",
    "    print(f'before: {len(unique_movies)}')\n",
    "    print(unique_movies)\n",
    "    unique_movies = unique_movies[(unique_movies.index.isin(movies_df.index)) & (unique_movies.index.isin(principals_df.index))]\n",
    "    print(f'after: {len(unique_movies)}')\n",
    "    \n",
    "    assert len(unique_movies) > 0\n",
    "\n",
    "    if save:\n",
    "        movies_df.to_csv(movie_imdb_df_file + '.csv', columns=['genres'], mode='w')\n",
    "\n",
    "    all_genres = [\n",
    "        'Action', 'Adventure', 'Animation', 'Children', 'Comedy', 'Crime', 'Documentary', 'Drama',  'Fantasy',\n",
    "        'Film-Noir', 'Horror', 'Musical', 'Mystery', 'Romance', 'Sci-Fi',  'Thriller', 'War', 'Western', 'Biography', 'Music',\n",
    "        'History', 'Family', 'Sport'\n",
    "        # Rare (for now) categories: 'History', 'Family', 'Sport'\n",
    "    ]\n",
    "\n",
    "    # Don't actually need to do this separately:\n",
    "    # actors_mask = (principals_df['category'] == 'actor') | (principals_df['category'] == 'actress')\n",
    "    # all_actors = sorted(list(principals_df['nconst'][actors_mask].unique()))\n",
    "    #\n",
    "    # directors_mask = principals_df['category'] == 'director'\n",
    "    # all_directors = sorted(list(principals_df['nconst'][directors_mask].unique()))\n",
    "    #\n",
    "    # composer_mask = principals_df['category'] == 'composer'\n",
    "    # all_composers = sorted(list(principals_df['nconst'][composer_mask].unique()))\n",
    "\n",
    "    print('Number of personel:', len(principals_df), f'. Removing those with less than {MIN_APPEARANCES} appearances...')\n",
    "    reduced_principals_df = principals_df.groupby('nconst').filter(lambda x: len(x) >= MIN_APPEARANCES)\n",
    "    print(f'Left with {len(reduced_principals_df)}')\n",
    "\n",
    "    all_personnel = sorted(list(reduced_principals_df['nconst'].unique()))\n",
    "\n",
    "    F = len(all_genres) + len(all_personnel)\n",
    "    features = np.zeros((len(unique_movies), F))\n",
    "    for i, movieId in tqdm(enumerate(unique_movies.index), total=len(unique_movies)):\n",
    "        with warnings.catch_warnings():\n",
    "            warnings.simplefilter(\"ignore\")\n",
    "            # multi-hot encode genres\n",
    "            genres = movies_df.loc[movieId]['genres'].split(',')\n",
    "            genres = set([g.replace(' ', '') for g in genres])\n",
    "            genres_feat = multi_hot_encode([genres], all_genres)\n",
    "            # multi-hot encode personel\n",
    "            personnel = set(principals_df.loc[movieId]['nconst'])\n",
    "            personnel_feat = multi_hot_encode([personnel], all_personnel)\n",
    "        \n",
    "        # put together for features\n",
    "        features[i, :len(all_genres)] = genres_feat\n",
    "        features[i, len(all_genres):] = personnel_feat\n",
    "    \n",
    "    return pd.DataFrame(index=unique_movies.index, data=features)"
   ]
  },
  {
   "cell_type": "code",
   "execution_count": 6,
   "metadata": {},
   "outputs": [],
   "source": [
    "def explore_utility_matrix(R: pd.DataFrame):\n",
    "    # R['rating'].hist()\n",
    "    plt.title('Item rating distribution')\n",
    "    plt.xlabel('Average Rating')\n",
    "    plt.ylabel('# of items')\n",
    "    R.groupby('movieId')['rating'].mean().hist(bins=20)\n",
    "    plt.show()\n",
    "    \n",
    "    plt.title('Item popularity')\n",
    "    plt.xlabel('Number of interactions')\n",
    "    plt.ylabel('# of items')\n",
    "    R.groupby('movieId')['rating'].count().hist(bins=100)\n",
    "    plt.show()\n",
    "    \n",
    "    plt.title('User popularity')\n",
    "    plt.xlabel('Number of interactions')\n",
    "    plt.ylabel('# of users')\n",
    "    R.groupby('userId')['rating'].count().hist(bins=100)\n",
    "    plt.show()"
   ]
  },
  {
   "cell_type": "markdown",
   "metadata": {},
   "source": [
    "## Data loading, pruning and feature extraction\n",
    "\n",
    "### Load utility matrix"
   ]
  },
  {
   "cell_type": "code",
   "execution_count": 7,
   "metadata": {},
   "outputs": [
    {
     "data": {
      "text/html": [
       "<div>\n",
       "<style scoped>\n",
       "    .dataframe tbody tr th:only-of-type {\n",
       "        vertical-align: middle;\n",
       "    }\n",
       "\n",
       "    .dataframe tbody tr th {\n",
       "        vertical-align: top;\n",
       "    }\n",
       "\n",
       "    .dataframe thead th {\n",
       "        text-align: right;\n",
       "    }\n",
       "</style>\n",
       "<table border=\"1\" class=\"dataframe\">\n",
       "  <thead>\n",
       "    <tr style=\"text-align: right;\">\n",
       "      <th></th>\n",
       "      <th>movieId</th>\n",
       "      <th>rating</th>\n",
       "      <th>timestamp</th>\n",
       "    </tr>\n",
       "    <tr>\n",
       "      <th>userId</th>\n",
       "      <th></th>\n",
       "      <th></th>\n",
       "      <th></th>\n",
       "    </tr>\n",
       "  </thead>\n",
       "  <tbody>\n",
       "    <tr>\n",
       "      <th>1</th>\n",
       "      <td>tt0110912</td>\n",
       "      <td>5.0</td>\n",
       "      <td>1147880044</td>\n",
       "    </tr>\n",
       "    <tr>\n",
       "      <th>1</th>\n",
       "      <td>tt0111495</td>\n",
       "      <td>3.5</td>\n",
       "      <td>1147868817</td>\n",
       "    </tr>\n",
       "    <tr>\n",
       "      <th>1</th>\n",
       "      <td>tt0108394</td>\n",
       "      <td>5.0</td>\n",
       "      <td>1147868828</td>\n",
       "    </tr>\n",
       "    <tr>\n",
       "      <th>1</th>\n",
       "      <td>tt0114787</td>\n",
       "      <td>5.0</td>\n",
       "      <td>1147878820</td>\n",
       "    </tr>\n",
       "    <tr>\n",
       "      <th>1</th>\n",
       "      <td>tt0045152</td>\n",
       "      <td>3.5</td>\n",
       "      <td>1147868510</td>\n",
       "    </tr>\n",
       "    <tr>\n",
       "      <th>...</th>\n",
       "      <td>...</td>\n",
       "      <td>...</td>\n",
       "      <td>...</td>\n",
       "    </tr>\n",
       "    <tr>\n",
       "      <th>162541</th>\n",
       "      <td>tt0382932</td>\n",
       "      <td>4.5</td>\n",
       "      <td>1240953372</td>\n",
       "    </tr>\n",
       "    <tr>\n",
       "      <th>162541</th>\n",
       "      <td>tt0389790</td>\n",
       "      <td>2.5</td>\n",
       "      <td>1240951998</td>\n",
       "    </tr>\n",
       "    <tr>\n",
       "      <th>162541</th>\n",
       "      <td>tt0952640</td>\n",
       "      <td>2.0</td>\n",
       "      <td>1240950697</td>\n",
       "    </tr>\n",
       "    <tr>\n",
       "      <th>162541</th>\n",
       "      <td>tt0468569</td>\n",
       "      <td>4.0</td>\n",
       "      <td>1240953434</td>\n",
       "    </tr>\n",
       "    <tr>\n",
       "      <th>162541</th>\n",
       "      <td>tt1013753</td>\n",
       "      <td>5.0</td>\n",
       "      <td>1240952515</td>\n",
       "    </tr>\n",
       "  </tbody>\n",
       "</table>\n",
       "<p>25000095 rows × 3 columns</p>\n",
       "</div>"
      ],
      "text/plain": [
       "          movieId  rating   timestamp\n",
       "userId                               \n",
       "1       tt0110912     5.0  1147880044\n",
       "1       tt0111495     3.5  1147868817\n",
       "1       tt0108394     5.0  1147868828\n",
       "1       tt0114787     5.0  1147878820\n",
       "1       tt0045152     3.5  1147868510\n",
       "...           ...     ...         ...\n",
       "162541  tt0382932     4.5  1240953372\n",
       "162541  tt0389790     2.5  1240951998\n",
       "162541  tt0952640     2.0  1240950697\n",
       "162541  tt0468569     4.0  1240953434\n",
       "162541  tt1013753     5.0  1240952515\n",
       "\n",
       "[25000095 rows x 3 columns]"
      ]
     },
     "execution_count": 7,
     "metadata": {},
     "output_type": "execute_result"
    }
   ],
   "source": [
    "utility_matrix, genome_metadata = load_user_ratings(movielens_path, LIMIT_USERS=LIMIT_USERS, seed=seed)\n",
    "utility_matrix"
   ]
  },
  {
   "cell_type": "code",
   "execution_count": 8,
   "metadata": {},
   "outputs": [
    {
     "name": "stdout",
     "output_type": "stream",
     "text": [
      "# users: 162541\n",
      "# movies: 59047\n",
      "# ratings: 25000095\n"
     ]
    },
    {
     "data": {
      "image/png": "[encoded data removed]",
      "text/plain": [
       "<Figure size 432x288 with 1 Axes>"
      ]
     },
     "metadata": {
      "needs_background": "light"
     },
     "output_type": "display_data"
    },
    {
     "data": {
      "image/png": "[encoded data removed]",
      "text/plain": [
       "<Figure size 432x288 with 1 Axes>"
      ]
     },
     "metadata": {
      "needs_background": "light"
     },
     "output_type": "display_data"
    },
    {
     "data": {
      "image/png": "[encoded data removed]",
      "text/plain": [
       "<Figure size 432x288 with 1 Axes>"
      ]
     },
     "metadata": {
      "needs_background": "light"
     },
     "output_type": "display_data"
    }
   ],
   "source": [
    "util_matrix_stats(utility_matrix)\n",
    "explore_utility_matrix(utility_matrix)"
   ]
  },
  {
   "cell_type": "markdown",
   "metadata": {},
   "source": [
    "### Filter items"
   ]
  },
  {
   "cell_type": "code",
   "execution_count": 9,
   "metadata": {},
   "outputs": [],
   "source": [
    "def filter_items(utility_matrix, MIN_VOTES_PER_ITEM, HARD_LIMIT_ITEMS, seed): \n",
    "    # filter by item popularity\n",
    "    if MIN_VOTES_PER_ITEM is not None:\n",
    "        item_votes = utility_matrix.groupby('movieId')['rating'].count()\n",
    "        print('Original items:', len(item_votes))\n",
    "        item_votes = item_votes[item_votes >= MIN_VOTES_PER_ITEM]\n",
    "        print(f'Keeping {len(item_votes)} items based on number of votes >= {MIN_VOTES_PER_ITEM}')\n",
    "        utility_matrix = utility_matrix[utility_matrix['movieId'].isin(item_votes.index)]\n",
    "        assert utility_matrix.groupby('movieId')['rating'].count().min() >= MIN_VOTES_PER_ITEM\n",
    "        \n",
    "    # randomly filter items to desired amount (!) Before we filter users as this also influences the latter\n",
    "    if HARD_LIMIT_ITEMS is not None:\n",
    "        items = pd.Series(utility_matrix['movieId'].unique()).sample(HARD_LIMIT_ITEMS, random_state=seed)\n",
    "        utility_matrix = utility_matrix[utility_matrix['movieId'].isin(items)]\n",
    "    \n",
    "    print('Utility matrix:', utility_matrix.shape)\n",
    "    return utility_matrix\n",
    "\n",
    "\n",
    "def filter_users(utility_matrix, MIN_VOTES_PER_USER, MAX_VOTES_PER_USER, HARD_LIMIT_USERS, seed): \n",
    "    # filter by user voting\n",
    "    if MIN_VOTES_PER_USER is not None:\n",
    "        user_votes = utility_matrix.groupby('userId')['rating'].count()\n",
    "        print('Original users:', len(user_votes))\n",
    "        user_votes = user_votes[user_votes >= MIN_VOTES_PER_USER]  # at least these many votes on movies\n",
    "        print(f'Keeping {len(user_votes)} users based on number of votes >= {MIN_VOTES_PER_USER}')\n",
    "        utility_matrix = utility_matrix[utility_matrix.index.isin(user_votes.index)]\n",
    "        assert utility_matrix.groupby('userId')['rating'].count().min() >= MIN_VOTES_PER_USER\n",
    "        \n",
    "    if MAX_VOTES_PER_USER is not None:\n",
    "        user_votes = utility_matrix.groupby('userId')['rating'].count()\n",
    "        print('Original users:', len(user_votes))\n",
    "        user_votes = user_votes[user_votes <= MAX_VOTES_PER_USER]  # at least these many votes on movies\n",
    "        print(f'Keeping {len(user_votes)} users based on number of votes <= {MAX_VOTES_PER_USER}')\n",
    "        utility_matrix = utility_matrix[utility_matrix.index.isin(user_votes.index)]\n",
    "        assert utility_matrix.groupby('userId')['rating'].count().max() <= MAX_VOTES_PER_USER\n",
    "    \n",
    "    # randomly filter users to desired amount\n",
    "    if HARD_LIMIT_USERS is not None:\n",
    "        users = utility_matrix.index.unique().to_series().sample(HARD_LIMIT_USERS, random_state=seed)\n",
    "        utility_matrix = utility_matrix[utility_matrix.index.isin(users)]\n",
    "    \n",
    "    print('Utility matrix:', utility_matrix.shape)\n",
    "    return utility_matrix"
   ]
  },
  {
   "cell_type": "markdown",
   "metadata": {},
   "source": [
    "First, we filter the items. They will also be filtered down (unavoidable) later to exclude those we do not have features for."
   ]
  },
  {
   "cell_type": "code",
   "execution_count": 10,
   "metadata": {},
   "outputs": [
    {
     "name": "stdout",
     "output_type": "stream",
     "text": [
      "Original items: 59047\n",
      "Keeping 3383 items based on number of votes >= 1200\n",
      "Utility matrix: (7594114, 3)\n",
      "# users: 162527\n",
      "# movies: 1200\n",
      "# ratings: 7594114\n"
     ]
    },
    {
     "data": {
      "image/png": "[encoded data removed]",
      "text/plain": [
       "<Figure size 432x288 with 1 Axes>"
      ]
     },
     "metadata": {
      "needs_background": "light"
     },
     "output_type": "display_data"
    },
    {
     "data": {
      "image/png": "[encoded data removed]",
      "text/plain": [
       "<Figure size 432x288 with 1 Axes>"
      ]
     },
     "metadata": {
      "needs_background": "light"
     },
     "output_type": "display_data"
    },
    {
     "data": {
      "image/png": "[encoded data removed]",
      "text/plain": [
       "<Figure size 432x288 with 1 Axes>"
      ]
     },
     "metadata": {
      "needs_background": "light"
     },
     "output_type": "display_data"
    }
   ],
   "source": [
    "utility_matrix = filter_items(utility_matrix, MIN_VOTES_PER_ITEM, HARD_LIMIT_ITEMS, seed=seed)\n",
    "\n",
    "util_matrix_stats(utility_matrix)\n",
    "explore_utility_matrix(utility_matrix)"
   ]
  },
  {
   "cell_type": "markdown",
   "metadata": {},
   "source": [
    "### Extract features for items\n",
    "\n",
    "Load metadata from IMDB for however many movies you find."
   ]
  },
  {
   "cell_type": "code",
   "execution_count": 11,
   "metadata": {},
   "outputs": [
    {
     "name": "stdout",
     "output_type": "stream",
     "text": [
      "# users: 162527\n",
      "# movies: 1200\n",
      "# ratings: 7594114\n",
      "Recalculating metadata...\n"
     ]
    },
    {
     "name": "stderr",
     "output_type": "stream",
     "text": [
      "C:\\Users\\mikem\\AppData\\Local\\Temp/ipykernel_8328/1887156604.py:16: DeprecationWarning: The default dtype for empty Series will be 'object' instead of 'float64' in a future version. Specify a dtype explicitly to silence this warning.\n",
      "  unique_movies = pd.Series(index=utility_matrix['movieId'].unique().copy())\n"
     ]
    },
    {
     "name": "stdout",
     "output_type": "stream",
     "text": [
      "Loading IMDB data...\n"
     ]
    },
    {
     "name": "stderr",
     "output_type": "stream",
     "text": [
      "C:\\Users\\mikem\\AppData\\Local\\Temp/ipykernel_8328/2170233794.py:56: DtypeWarning: Columns (7) have mixed types.Specify dtype option on import or set low_memory=False.\n",
      "  movies_df, principals_df = load_imdb_dfs(unique_movies)\n"
     ]
    },
    {
     "name": "stdout",
     "output_type": "stream",
     "text": [
      "concatenating...\n",
      "Reducing size to movies given...\n",
      "done\n",
      "Loading edges\n",
      "before: 1200\n",
      "tt0111495   NaN\n",
      "tt0114787   NaN\n",
      "tt0101700   NaN\n",
      "tt0089881   NaN\n",
      "tt0050976   NaN\n",
      "             ..\n",
      "tt0076729   NaN\n",
      "tt0102034   NaN\n",
      "tt0048750   NaN\n",
      "tt0048356   NaN\n",
      "tt0073540   NaN\n",
      "Length: 1200, dtype: float64\n",
      "after: 1027\n",
      "Number of personel: 7781 . Removing those with less than 5 appearances...\n",
      "Left with 1689\n"
     ]
    },
    {
     "name": "stderr",
     "output_type": "stream",
     "text": [
      "100%|████████████████████████████████████████████████████████████████████████████████████████████████████████████████████████████████████████████████████████████████████████████████████████████| 1027/1027 [00:00<00:00, 3309.89it/s]\n",
      "C:\\Users\\mikem\\miniconda3\\envs\\data-science-env\\lib\\site-packages\\pandas\\io\\pytables.py:314: PerformanceWarning: \n",
      "your performance may suffer as PyTables will pickle object types that it cannot\n",
      "map directly to c-types [inferred_type->mixed-integer,key->axis0] [items->None]\n",
      "\n",
      "  f(store)\n"
     ]
    },
    {
     "name": "stdout",
     "output_type": "stream",
     "text": [
      "Found 1027 movies.\n",
      "Saving metadata...\n"
     ]
    },
    {
     "name": "stderr",
     "output_type": "stream",
     "text": [
      "C:\\Users\\mikem\\miniconda3\\envs\\data-science-env\\lib\\site-packages\\pandas\\io\\pytables.py:314: PerformanceWarning: \n",
      "your performance may suffer as PyTables will pickle object types that it cannot\n",
      "map directly to c-types [inferred_type->mixed-integer,key->block0_items] [items->None]\n",
      "\n",
      "  f(store)\n"
     ]
    },
    {
     "name": "stdout",
     "output_type": "stream",
     "text": [
      "OK!\n",
      "Removing movies for which we have no features...\n",
      "Metadata:  (1027, 1399)\n",
      "# users: 162460\n",
      "# movies: 1027\n",
      "# ratings: 6727882\n"
     ]
    }
   ],
   "source": [
    "if extract_features:\n",
    "    # load audio features\n",
    "    if use_audio:\n",
    "        audio_features = pd.read_csv('../data/audio_features.csv', index_col='movieId', sep=';')\n",
    "        # filter utility matrix to contain only movies for which we have audio\n",
    "        utility_matrix = utility_matrix[utility_matrix['movieId'].isin(audio_features.index)]\n",
    "        # utility_matrix = audio_features.join(utility_matrix, on='movieId', how='inner')\n",
    "        print('Samples after keeping only audio movies:', utility_matrix.shape[0])\n",
    "    \n",
    "    util_matrix_stats(utility_matrix)\n",
    "    assert len(utility_matrix) < 10000000, f\"Utility matrix is going too be too big: {len(utility_matrix)}\"\n",
    "    \n",
    "    # load movie features from only for movies in movieLens (for which we have ratings)\n",
    "    if recalculate_metadata:\n",
    "        print('Recalculating metadata...')\n",
    "        unique_movies = pd.Series(index=utility_matrix['movieId'].unique().copy())\n",
    "        imdb_metadata = load_imdb_metadata_features(unique_movies)\n",
    "        if use_genome_tags:\n",
    "            genome_metadata = genome_metadata[genome_metadata.index.isin(unique_movies.index)]\n",
    "            metadata = imdb_metadata.join(genome_metadata)\n",
    "            metadata = metadata.fillna(0.0)   # shouldn't be any but just in case\n",
    "        else:\n",
    "            metadata = imdb_metadata\n",
    "        \n",
    "        # save metadata\n",
    "        print(f'Found {metadata.shape[0]} movies.\\nSaving metadata...')\n",
    "        metadata.to_hdf(item_metadata_file + '.h5', key='metadata', mode='w')\n",
    "        print('OK!')\n",
    "        \n",
    "        # Note: there can still be movies in ratings for which we have no features\n",
    "        # so remove them like this:\n",
    "        print('Removing movies for which we have no features...')\n",
    "        utility_matrix = utility_matrix[utility_matrix['movieId'].isin(metadata.index)]\n",
    "    else:\n",
    "        metadata = pd.read_hdf(item_metadata_file + '.h5', key='metadata')\n",
    "    \n",
    "    # Note to check statistics: metadata.sum(axis=0)\n",
    "    print(\"Metadata: \", metadata.shape)\n",
    "    # print('Statistics:')\n",
    "    # print(metadata.sum(axis=0))\n",
    "    \n",
    "    util_matrix_stats(utility_matrix)\n"
   ]
  },
  {
   "cell_type": "markdown",
   "metadata": {},
   "source": [
    "### Filter users\n",
    "\n",
    "Now, after being done with items, we filter the users so that they have the desired properties."
   ]
  },
  {
   "cell_type": "code",
   "execution_count": 12,
   "metadata": {},
   "outputs": [
    {
     "name": "stdout",
     "output_type": "stream",
     "text": [
      "Original users: 162460\n",
      "Keeping 38632 users based on number of votes >= 50\n",
      "Original users: 38632\n",
      "Keeping 37152 users based on number of votes <= 300\n",
      "Utility matrix: (210192, 3)\n",
      "# users: 2000\n",
      "# movies: 1027\n",
      "# ratings: 210192\n"
     ]
    },
    {
     "data": {
      "image/png": "[encoded data removed]",
      "text/plain": [
       "<Figure size 432x288 with 1 Axes>"
      ]
     },
     "metadata": {
      "needs_background": "light"
     },
     "output_type": "display_data"
    },
    {
     "data": {
      "image/png": "[encoded data removed]",
      "text/plain": [
       "<Figure size 432x288 with 1 Axes>"
      ]
     },
     "metadata": {
      "needs_background": "light"
     },
     "output_type": "display_data"
    },
    {
     "data": {
      "image/png": "[encoded data removed]",
      "text/plain": [
       "<Figure size 432x288 with 1 Axes>"
      ]
     },
     "metadata": {
      "needs_background": "light"
     },
     "output_type": "display_data"
    }
   ],
   "source": [
    "# filter again to make sure we get what we wanted\n",
    "utility_matrix = filter_users(utility_matrix, MIN_VOTES_PER_USER, MAX_VOTES_PER_USER, HARD_LIMIT_USERS, seed=seed)\n",
    "\n",
    "util_matrix_stats(utility_matrix)\n",
    "explore_utility_matrix(utility_matrix)"
   ]
  },
  {
   "cell_type": "markdown",
   "metadata": {},
   "source": [
    "## Train-val-test split"
   ]
  },
  {
   "cell_type": "markdown",
   "metadata": {},
   "source": [
    "There are many ways to perform train-val-test split depending on which generalization ability we are interested in measuring (i.e. depending on our task). \n",
    "\n",
    "1. If we do not care the most about generalizing to new users / items but only to unknown interactions between known users and known items then the flat way is probably the way to go and is definately the simplest. \n",
    "2. If we care about generalizing to new users on which the model has not trained but not really care about generalizing to new items then we need to split the data based on the users (i.e. all interactions associated with a user go together).\n",
    "3. Same as 2. but from the item perspective.\n",
    "4. If we strongly care about generalizing to both new users and new items then we would need to come up with another splitting strategy... (TODO)"
   ]
  },
  {
   "cell_type": "code",
   "execution_count": 13,
   "metadata": {},
   "outputs": [],
   "source": [
    "def train_val_test_split_flat(utility_matrix, val_size, test_size, seed):\n",
    "    \"\"\" Random split on all interactions of the utility matrix\n",
    "        Doesn't measure generalization to new users or items, only to unknown interactions between known user/items as in pure CF\n",
    "    \"\"\"\n",
    "    \n",
    "    # set random seed for reproducability\n",
    "    np.random.seed(seed)\n",
    "\n",
    "    # determine splits in a shuffled order of all samples like so:\n",
    "    # | <-- val set --> | <-- test set --> | <--------- train set ---------> |\n",
    "    size = len(utility_matrix)\n",
    "    val_split = int(np.floor(val_size * size))\n",
    "    test_split = val_split + int(np.floor(test_size * size))\n",
    "\n",
    "    # randomly shuffly the indexes of all data\n",
    "    indices = list(range(size))\n",
    "    np.random.shuffle(indices)\n",
    "\n",
    "    # apply splits to get mutually exclusive subsets of the original data\n",
    "    val = utility_matrix.iloc[indices[:val_split]]\n",
    "    test = utility_matrix.iloc[indices[val_split: test_split]]\n",
    "    train = utility_matrix.iloc[indices[test_split:]]\n",
    "    \n",
    "    return train, val, test\n",
    "\n",
    "\n",
    "def train_val_test_split_on_users(utility_matrix, val_size, test_size, seed):\n",
    "    \"\"\" Random split on users of the utility matrix. All interactions associated with a user go with him on the same set. \n",
    "        Measures generalization to new users but considers items fixed.\n",
    "    \"\"\"\n",
    "    \n",
    "    # set random seed for reproducability\n",
    "    np.random.seed(seed)\n",
    "    \n",
    "    # get users from matrix\n",
    "    users = utility_matrix.index.unique().to_series()\n",
    "\n",
    "    # determine splits in a shuffled order of all samples like so:\n",
    "    # | <-- val set --> | <-- test set --> | <--------- train set ---------> |\n",
    "    size = len(users)\n",
    "    val_split = int(np.floor(val_size * size))\n",
    "    test_split = val_split + int(np.floor(test_size * size))\n",
    "\n",
    "    # randomly shuffly the indexes of all users\n",
    "    indices = list(range(size))\n",
    "    np.random.shuffle(indices)\n",
    "    \n",
    "    # apply splits to users and from them get mutually exclusive subsets of the original data\n",
    "    val = utility_matrix.loc[users.iloc[indices[:val_split]]]\n",
    "    test = utility_matrix.loc[users.iloc[indices[val_split: test_split]]]\n",
    "    train = utility_matrix.loc[users.iloc[indices[test_split:]]]\n",
    "    \n",
    "    return train, val, test"
   ]
  },
  {
   "cell_type": "code",
   "execution_count": 14,
   "metadata": {},
   "outputs": [
    {
     "data": {
      "text/plain": [
       "(147136, 31528, 31528)"
      ]
     },
     "execution_count": 14,
     "metadata": {},
     "output_type": "execute_result"
    }
   ],
   "source": [
    "train, val, test = train_val_test_split_flat(utility_matrix, val_size, test_size, seed)\n",
    "train.shape[0], val.shape[0], test.shape[0]"
   ]
  },
  {
   "cell_type": "markdown",
   "metadata": {},
   "source": [
    "Save sets."
   ]
  },
  {
   "cell_type": "code",
   "execution_count": 15,
   "metadata": {},
   "outputs": [],
   "source": [
    "save_set(train, train_set_file)\n",
    "save_set(val, val_set_file)\n",
    "save_set(test, test_set_file)\n",
    "save_set(utility_matrix, full_matrix_file)"
   ]
  },
  {
   "cell_type": "markdown",
   "metadata": {},
   "source": [
    "Exploration of sets. Remember that, if we are flat splitting, each user will potentially have interactions randomly distributed across all sets."
   ]
  },
  {
   "cell_type": "code",
   "execution_count": 16,
   "metadata": {},
   "outputs": [
    {
     "data": {
      "image/png": "[encoded data removed]",
      "text/plain": [
       "<Figure size 432x288 with 1 Axes>"
      ]
     },
     "metadata": {
      "needs_background": "light"
     },
     "output_type": "display_data"
    },
    {
     "data": {
      "image/png": "[encoded data removed]",
      "text/plain": [
       "<Figure size 432x288 with 1 Axes>"
      ]
     },
     "metadata": {
      "needs_background": "light"
     },
     "output_type": "display_data"
    },
    {
     "data": {
      "image/png": "[encoded data removed]",
      "text/plain": [
       "<Figure size 432x288 with 1 Axes>"
      ]
     },
     "metadata": {
      "needs_background": "light"
     },
     "output_type": "display_data"
    }
   ],
   "source": [
    "explore_utility_matrix(train)"
   ]
  },
  {
   "cell_type": "code",
   "execution_count": 17,
   "metadata": {},
   "outputs": [
    {
     "data": {
      "image/png": "[encoded data removed]",
      "text/plain": [
       "<Figure size 432x288 with 1 Axes>"
      ]
     },
     "metadata": {
      "needs_background": "light"
     },
     "output_type": "display_data"
    },
    {
     "data": {
      "image/png": "[encoded data removed]",
      "text/plain": [
       "<Figure size 432x288 with 1 Axes>"
      ]
     },
     "metadata": {
      "needs_background": "light"
     },
     "output_type": "display_data"
    },
    {
     "data": {
      "image/png": "[encoded data removed]",
      "text/plain": [
       "<Figure size 432x288 with 1 Axes>"
      ]
     },
     "metadata": {
      "needs_background": "light"
     },
     "output_type": "display_data"
    }
   ],
   "source": [
    "explore_utility_matrix(val)"
   ]
  },
  {
   "cell_type": "code",
   "execution_count": 18,
   "metadata": {},
   "outputs": [
    {
     "data": {
      "image/png": "[encoded data removed]",
      "text/plain": [
       "<Figure size 432x288 with 1 Axes>"
      ]
     },
     "metadata": {
      "needs_background": "light"
     },
     "output_type": "display_data"
    },
    {
     "data": {
      "image/png": "[encoded data removed]",
      "text/plain": [
       "<Figure size 432x288 with 1 Axes>"
      ]
     },
     "metadata": {
      "needs_background": "light"
     },
     "output_type": "display_data"
    },
    {
     "data": {
      "image/png": "[encoded data removed]",
      "text/plain": [
       "<Figure size 432x288 with 1 Axes>"
      ]
     },
     "metadata": {
      "needs_background": "light"
     },
     "output_type": "display_data"
    }
   ],
   "source": [
    "explore_utility_matrix(test)"
   ]
  },
  {
   "cell_type": "markdown",
   "metadata": {},
   "source": [
    "## Extract user ratings and fixed user embeddings from features"
   ]
  },
  {
   "cell_type": "code",
   "execution_count": 19,
   "metadata": {},
   "outputs": [
    {
     "name": "stdout",
     "output_type": "stream",
     "text": [
      "(2000, 4)\n",
      "User ratings:\n",
      "                                                    rating  \\\n",
      "userId                                                      \n",
      "38      [4.0, 2.5, 3.5, 3.5, 3.5, 3.0, 4.0, 4.5, 4.0, ...   \n",
      "41      [4.0, 4.0, 4.0, 3.0, 5.0, 3.0, 3.0, 4.0, 3.0, ...   \n",
      "175     [5.0, 4.0, 3.0, 4.0, 4.0, 4.0, 3.0, 4.0, 2.0, ...   \n",
      "472     [2.0, 4.0, 2.0, 4.0, 2.0, 4.0, 3.0, 4.0, 5.0, ...   \n",
      "514     [3.0, 4.0, 4.0, 3.0, 2.0, 4.0, 4.0, 4.0, 3.0, ...   \n",
      "...                                                   ...   \n",
      "161969  [2.0, 5.0, 2.0, 2.0, 5.0, 4.0, 4.0, 4.0, 3.0, ...   \n",
      "162058  [4.0, 5.0, 4.0, 4.0, 5.0, 5.0, 5.0, 3.5, 3.0, ...   \n",
      "162309  [4.0, 3.0, 1.5, 3.0, 3.0, 3.0, 3.5, 2.5, 3.0, ...   \n",
      "162321  [5.0, 5.0, 5.0, 5.0, 5.0, 5.0, 5.0, 3.5, 4.5, ...   \n",
      "162403  [4.0, 3.0, 2.5, 4.0, 4.0, 4.0, 5.0, 3.0, 3.0, ...   \n",
      "\n",
      "                                                  movieId  meanRating  \\\n",
      "userId                                                                  \n",
      "38      [tt0093058, tt0093779, tt0095327, tt0102926, t...    3.308333   \n",
      "41      [tt0080455, tt0086190, tt0088011, tt0089370, t...    3.741935   \n",
      "175     [tt0082846, tt0084434, tt0086190, tt0087538, t...    3.432836   \n",
      "472     [tt0087538, tt0088763, tt0088794, tt0089670, t...    3.383333   \n",
      "514     [tt0086979, tt0090605, tt0090756, tt0093058, t...    3.555556   \n",
      "...                                                   ...         ...   \n",
      "161969  [tt0082340, tt0086190, tt0087182, tt0088172, t...    3.163265   \n",
      "162058  [tt0094737, tt0097757, tt0099785, tt0104694, t...    4.265306   \n",
      "162309  [tt0083907, tt0083972, tt0088763, tt0091042, t...    2.970588   \n",
      "162321  [tt0082949, tt0088763, tt0091042, tt0093148, t...    4.787879   \n",
      "162403  [tt0086066, tt0086200, tt0087182, tt0088763, t...    3.593137   \n",
      "\n",
      "        numRatings  \n",
      "userId              \n",
      "38              60  \n",
      "41              31  \n",
      "175            134  \n",
      "472             60  \n",
      "514             72  \n",
      "...            ...  \n",
      "161969          49  \n",
      "162058          49  \n",
      "162309          51  \n",
      "162321          66  \n",
      "162403         102  \n",
      "\n",
      "[2000 rows x 4 columns]\n",
      "Saving user ratings from train set only...\n",
      "OK!\n"
     ]
    },
    {
     "name": "stderr",
     "output_type": "stream",
     "text": [
      "C:\\Users\\mikem\\miniconda3\\envs\\data-science-env\\lib\\site-packages\\pandas\\core\\generic.py:2703: PerformanceWarning: \n",
      "your performance may suffer as PyTables will pickle object types that it cannot\n",
      "map directly to c-types [inferred_type->mixed,key->block2_values] [items->Index(['rating', 'movieId'], dtype='object')]\n",
      "\n",
      "  pytables.to_hdf(\n"
     ]
    },
    {
     "data": {
      "image/png": "[encoded data removed]",
      "text/plain": [
       "<Figure size 432x288 with 1 Axes>"
      ]
     },
     "metadata": {
      "needs_background": "light"
     },
     "output_type": "display_data"
    },
    {
     "name": "stdout",
     "output_type": "stream",
     "text": [
      "Creating user embeddings...\n"
     ]
    },
    {
     "name": "stderr",
     "output_type": "stream",
     "text": [
      "Creating user embeddings...: 100%|███████████████████████████████████████████████████████████████████████████████████████████████████████████████████████████████████████████████████████████████| 2000/2000 [00:01<00:00, 1175.39it/s]\n"
     ]
    },
    {
     "name": "stdout",
     "output_type": "stream",
     "text": [
      "Saving...\n",
      "Done\n"
     ]
    }
   ],
   "source": [
    "def create_user_embedding(user_ratings: pd.DataFrame, metadata: pd.DataFrame):\n",
    "    avg_rating = user_ratings['rating'].mean()\n",
    "    return ((user_ratings['rating'] - avg_rating).reshape(-1, 1) * metadata.loc[user_ratings['movieId']].values).mean(axis=0)\n",
    "\n",
    "\n",
    "if save_user_ratings:\n",
    "    \n",
    "    # TODO: Which should I use? Train would be an obvious choice but what if we re splitting on users\n",
    "    ratings_to_use = train\n",
    "    \n",
    "    \n",
    "    # IMPORTANT to sort by movieId\n",
    "    user_ratings: pd.DataFrame = ratings_to_use.drop('timestamp', axis=1).sort_values(by='movieId').groupby(\n",
    "        'userId').agg({'rating': list, 'movieId': list})\n",
    "    user_ratings['rating'] = user_ratings['rating'].apply(lambda x: np.array(x))\n",
    "    user_ratings['movieId'] = user_ratings['movieId'].apply(lambda x: np.array(x))\n",
    "    user_ratings['meanRating'] = user_ratings['rating'].apply(lambda x: np.mean(x))\n",
    "    user_ratings['numRatings'] = user_ratings['rating'].apply(lambda x: len(x))\n",
    "    \n",
    "    print(user_ratings.shape)\n",
    "    print('User ratings:\\n', user_ratings)\n",
    "\n",
    "    print('Saving user ratings from train set only...')\n",
    "    user_ratings.to_hdf(user_ratings_file + '.h5', key='user_ratings', mode='w')\n",
    "    print('OK!')\n",
    "    \n",
    "    # print(f'Average number of ratings per user (in train set): {user_ratings[\"rating\"].apply(lambda x: len(x)).mean()}')\n",
    "    plt.ylabel(\"# of ratings\")\n",
    "    plt.xlabel(\"users\")\n",
    "    user_ratings[\"rating\"].apply(lambda x: len(x)).hist()\n",
    "    plt.show()\n",
    "    \n",
    "    if extract_features and create_user_embeddings_too:\n",
    "        # create user_embeddings from user ratings once beforehand\n",
    "        # Note: This takes a very long time\n",
    "        print('Creating user embeddings...')\n",
    "        user_embeddings = pd.DataFrame(index=user_ratings.index.unique().copy(), data=np.zeros((len(user_ratings.index.unique()), metadata.shape[1])))\n",
    "        for userId, user_ratings in tqdm(user_ratings.groupby('userId'), desc='Creating user embeddings...'):\n",
    "            # Note: iloc[0] is needed because of some weird encapsulation idk\n",
    "            user_embeddings.at[userId, :] = create_user_embedding(user_ratings.iloc[0], metadata)\n",
    "        \n",
    "        print('Saving...')\n",
    "        user_embeddings.to_hdf(user_embeddings_file + '.h5', key='user_embeddings', mode='w')\n",
    "        print('Done')"
   ]
  }
 ],
 "metadata": {
  "kernelspec": {
   "display_name": "Python 3 (ipykernel)",
   "language": "python",
   "name": "python3"
  },
  "language_info": {
   "codemirror_mode": {
    "name": "ipython",
    "version": 3
   },
   "file_extension": ".py",
   "mimetype": "text/x-python",
   "name": "python",
   "nbconvert_exporter": "python",
   "pygments_lexer": "ipython3",
   "version": "3.9.7"
  }
 },
 "nbformat": 4,
 "nbformat_minor": 4
}
