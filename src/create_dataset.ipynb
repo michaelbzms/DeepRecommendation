{
 "cells": [
  {
   "cell_type": "markdown",
   "metadata": {
    "jupyter": {
     "outputs_hidden": true
    }
   },
   "source": [
    "# Data Exploration & Dataset Creation"
   ]
  },
  {
   "cell_type": "code",
   "execution_count": 1,
   "metadata": {},
   "outputs": [],
   "source": [
    "import pandas as pd\n",
    "import numpy as np\n",
    "from tqdm import tqdm\n",
    "import matplotlib.pyplot as plt\n",
    "from sklearn.metrics.pairwise import pairwise_distances\n",
    "\n",
    "from globals import movielens_path, item_metadata_file, train_set_file, val_set_file, test_set_file, seed, user_ratings_file, user_embeddings_file, full_matrix_file, imdb_path, movie_imdb_df_file\n",
    "from util import multi_hot_encode\n",
    "import warnings"
   ]
  },
  {
   "cell_type": "markdown",
   "metadata": {},
   "source": [
    "# Parameters:"
   ]
  },
  {
   "cell_type": "code",
   "execution_count": 2,
   "metadata": {},
   "outputs": [],
   "source": [
    "extract_features = True\n",
    "recalculate_metadata = True   # can be false if we do not change the rest of the parameters\n",
    "use_audio = False\n",
    "\n",
    "# arbitrary util matrix filters\n",
    "LIMIT_USERS = None\n",
    "MIN_VOTES_PER_ITEM = 1500 # 1800        # in 160.000 users\n",
    "FINAL_MIN_VOTES_PER_ITEM = 200  # 100   # in final subset of users\n",
    "MIN_VOTES_PER_USER = 100\n",
    "MAX_VOTES_PER_USER = 400\n",
    "HARD_LIMIT_ITEMS = None\n",
    "HARD_LIMIT_USERS = 5000\n",
    "\n",
    "# item metadata filters\n",
    "MIN_YEAR = 2000  # 2000\n",
    "MIN_APPEARANCES = 3       # minimum number of appearances for a movie's personel (e.g. actor, director, etc) in other movies (in our dataset) in order to keep him in the metadata extracted\n",
    "\n",
    "save_user_ratings = True\n",
    "use_genome_tags = True\n",
    "create_user_embeddings_too = True\n",
    "\n",
    "val_size = 0.1\n",
    "test_size = 0.1"
   ]
  },
  {
   "cell_type": "markdown",
   "metadata": {},
   "source": [
    "## Define some utility functions"
   ]
  },
  {
   "cell_type": "code",
   "execution_count": 3,
   "metadata": {},
   "outputs": [],
   "source": [
    "def util_matrix_stats(matrix: pd.DataFrame):\n",
    "    num_users = matrix.index.unique().shape[0]\n",
    "    num_items = matrix['movieId'].unique().shape[0]\n",
    "    print(f\"Number of users: {num_users}\")\n",
    "    print(f\"Number of movies: {num_items}\")\n",
    "    print(f\"Number of ratings: {matrix.shape[0]}\")\n",
    "    print(f'Sparcity ratio: {100.0 * matrix.shape[0] / (num_users * num_items):.4f}% of utility matrix is known (non-blank).')\n",
    "\n",
    "def explore_utility_matrix(R: pd.DataFrame):\n",
    "    num_users = R.index.unique().shape[0]\n",
    "    num_items = R['movieId'].unique().shape[0]\n",
    "\n",
    "    plt.title('Item rating distribution')\n",
    "    plt.xlabel('Average Rating')\n",
    "    plt.ylabel('Number of items')\n",
    "    R.groupby('movieId')['rating'].mean().hist(bins=20)\n",
    "    plt.show()\n",
    "    \n",
    "    plt.title('Item degree distribution')\n",
    "    plt.ylabel('Number of items')\n",
    "    plt.xlabel(f'Number of interaction with all {num_users} users')\n",
    "    (R.groupby('movieId')['rating'].count()).hist(bins=100)\n",
    "    plt.show()\n",
    "\n",
    "    plt.title('User degree distribution')\n",
    "    plt.ylabel('Number of items')\n",
    "    plt.xlabel(f'Number of interactions with all {num_items} items')\n",
    "    (R.groupby('userId')['rating'].count()).hist(bins=100)\n",
    "    plt.show()\n",
    "    \n",
    "\n",
    "def explore_correlations(R: pd.DataFrame):\n",
    "    dense_U = utility_matrix.pivot(columns='movieId', values='rating')\n",
    "    jac_sim = 1 - pairwise_distances(dense_U.T.fillna(0), metric=\"hamming\")\n",
    "    jac_sim = pd.DataFrame(jac_sim, index=dense_U.columns, columns=dense_U.columns)\n",
    "    return jac_sim"
   ]
  },
  {
   "cell_type": "markdown",
   "metadata": {},
   "source": [
    "## Data loading, pruning and feature extraction\n",
    "\n",
    "### Load utility matrix"
   ]
  },
  {
   "cell_type": "code",
   "execution_count": 4,
   "metadata": {},
   "outputs": [],
   "source": [
    "def load_user_ratings(movielens_data_folder, LIMIT_USERS=None, seed=None):\n",
    "    \"\"\" Load MovieLens data \"\"\"\n",
    "    # load movielens user reviews data\n",
    "    user_ratings = pd.read_csv(movielens_data_folder + 'ratings.csv',\n",
    "                               index_col='userId',\n",
    "                               usecols=['userId', 'movieId', 'rating', 'timestamp'],\n",
    "                               dtype={'userId': np.int32, 'movieId': np.int32, 'rating': np.float32})\n",
    "    if LIMIT_USERS is not None:\n",
    "        print('Limiting number of users to', LIMIT_USERS)\n",
    "        # user_ratings = user_ratings.loc[1: LIMIT_USERS]\n",
    "        user_ratings = user_ratings.loc[user_ratings.index.max() - LIMIT_USERS: user_ratings.index.max()]\n",
    "        user_ratings = user_ratings.loc[user_ratings.index.sample(n=LIMIT_USERS, random_state=seed)]\n",
    "\n",
    "    # load genome tags supplied with movielens\n",
    "    genometags = pd.read_csv(movielens_data_folder + 'genome-scores.csv',\n",
    "                             index_col='movieId',\n",
    "                             usecols=['movieId', 'tagId', 'relevance'],\n",
    "                             dtype={'movieId': np.int32, 'tagId': np.int32, 'relevance': np.float64})\n",
    "    genometags = genometags.pivot_table('relevance', index='movieId', columns='tagId')\n",
    "\n",
    "    # change movieId to IMDb ID, link movieIds with imdbIds\n",
    "    links = pd.read_csv(movielens_data_folder + 'links.csv',\n",
    "                        index_col='movieId',\n",
    "                        usecols=['movieId', 'imdbId'],\n",
    "                        dtype={'movieId': np.int32, 'imdbId': 'string'})\n",
    "    user_ratings['movieId'] = 'tt' + user_ratings['movieId'].map(links['imdbId'])\n",
    "    genometags.index = 'tt' + genometags.index.map(links['imdbId'])\n",
    "    genometags.rename({c: f'genome_{c}' for c in genometags.columns.tolist()}, inplace=True, axis=1)   # needed for concat to work later\n",
    "\n",
    "    return user_ratings, genometags"
   ]
  },
  {
   "cell_type": "code",
   "execution_count": 5,
   "metadata": {},
   "outputs": [
    {
     "data": {
      "text/html": [
       "<div>\n",
       "<style scoped>\n",
       "    .dataframe tbody tr th:only-of-type {\n",
       "        vertical-align: middle;\n",
       "    }\n",
       "\n",
       "    .dataframe tbody tr th {\n",
       "        vertical-align: top;\n",
       "    }\n",
       "\n",
       "    .dataframe thead th {\n",
       "        text-align: right;\n",
       "    }\n",
       "</style>\n",
       "<table border=\"1\" class=\"dataframe\">\n",
       "  <thead>\n",
       "    <tr style=\"text-align: right;\">\n",
       "      <th></th>\n",
       "      <th>movieId</th>\n",
       "      <th>rating</th>\n",
       "      <th>timestamp</th>\n",
       "    </tr>\n",
       "    <tr>\n",
       "      <th>userId</th>\n",
       "      <th></th>\n",
       "      <th></th>\n",
       "      <th></th>\n",
       "    </tr>\n",
       "  </thead>\n",
       "  <tbody>\n",
       "    <tr>\n",
       "      <th>1</th>\n",
       "      <td>tt0110912</td>\n",
       "      <td>5.0</td>\n",
       "      <td>1147880044</td>\n",
       "    </tr>\n",
       "    <tr>\n",
       "      <th>1</th>\n",
       "      <td>tt0111495</td>\n",
       "      <td>3.5</td>\n",
       "      <td>1147868817</td>\n",
       "    </tr>\n",
       "    <tr>\n",
       "      <th>1</th>\n",
       "      <td>tt0108394</td>\n",
       "      <td>5.0</td>\n",
       "      <td>1147868828</td>\n",
       "    </tr>\n",
       "    <tr>\n",
       "      <th>1</th>\n",
       "      <td>tt0114787</td>\n",
       "      <td>5.0</td>\n",
       "      <td>1147878820</td>\n",
       "    </tr>\n",
       "    <tr>\n",
       "      <th>1</th>\n",
       "      <td>tt0045152</td>\n",
       "      <td>3.5</td>\n",
       "      <td>1147868510</td>\n",
       "    </tr>\n",
       "    <tr>\n",
       "      <th>...</th>\n",
       "      <td>...</td>\n",
       "      <td>...</td>\n",
       "      <td>...</td>\n",
       "    </tr>\n",
       "    <tr>\n",
       "      <th>162541</th>\n",
       "      <td>tt0382932</td>\n",
       "      <td>4.5</td>\n",
       "      <td>1240953372</td>\n",
       "    </tr>\n",
       "    <tr>\n",
       "      <th>162541</th>\n",
       "      <td>tt0389790</td>\n",
       "      <td>2.5</td>\n",
       "      <td>1240951998</td>\n",
       "    </tr>\n",
       "    <tr>\n",
       "      <th>162541</th>\n",
       "      <td>tt0952640</td>\n",
       "      <td>2.0</td>\n",
       "      <td>1240950697</td>\n",
       "    </tr>\n",
       "    <tr>\n",
       "      <th>162541</th>\n",
       "      <td>tt0468569</td>\n",
       "      <td>4.0</td>\n",
       "      <td>1240953434</td>\n",
       "    </tr>\n",
       "    <tr>\n",
       "      <th>162541</th>\n",
       "      <td>tt1013753</td>\n",
       "      <td>5.0</td>\n",
       "      <td>1240952515</td>\n",
       "    </tr>\n",
       "  </tbody>\n",
       "</table>\n",
       "<p>25000095 rows × 3 columns</p>\n",
       "</div>"
      ],
      "text/plain": [
       "          movieId  rating   timestamp\n",
       "userId                               \n",
       "1       tt0110912     5.0  1147880044\n",
       "1       tt0111495     3.5  1147868817\n",
       "1       tt0108394     5.0  1147868828\n",
       "1       tt0114787     5.0  1147878820\n",
       "1       tt0045152     3.5  1147868510\n",
       "...           ...     ...         ...\n",
       "162541  tt0382932     4.5  1240953372\n",
       "162541  tt0389790     2.5  1240951998\n",
       "162541  tt0952640     2.0  1240950697\n",
       "162541  tt0468569     4.0  1240953434\n",
       "162541  tt1013753     5.0  1240952515\n",
       "\n",
       "[25000095 rows x 3 columns]"
      ]
     },
     "execution_count": 5,
     "metadata": {},
     "output_type": "execute_result"
    }
   ],
   "source": [
    "utility_matrix, genome_metadata = load_user_ratings(movielens_path, LIMIT_USERS=LIMIT_USERS, seed=seed)\n",
    "utility_matrix"
   ]
  },
  {
   "cell_type": "code",
   "execution_count": 6,
   "metadata": {},
   "outputs": [
    {
     "name": "stdout",
     "output_type": "stream",
     "text": [
      "Number of users: 162541\n",
      "Number of movies: 59047\n",
      "Number of ratings: 25000095\n",
      "Sparcity ratio: 0.2605% of utility matrix is known (non-blank).\n"
     ]
    },
    {
     "data": {
      "image/png": "[encoded data removed]",
      "text/plain": [
       "<Figure size 432x288 with 1 Axes>"
      ]
     },
     "metadata": {
      "needs_background": "light"
     },
     "output_type": "display_data"
    },
    {
     "data": {
      "image/png": "[encoded data removed]",
      "text/plain": [
       "<Figure size 432x288 with 1 Axes>"
      ]
     },
     "metadata": {
      "needs_background": "light"
     },
     "output_type": "display_data"
    },
    {
     "data": {
      "image/png": "[encoded data removed]",
      "text/plain": [
       "<Figure size 432x288 with 1 Axes>"
      ]
     },
     "metadata": {
      "needs_background": "light"
     },
     "output_type": "display_data"
    }
   ],
   "source": [
    "util_matrix_stats(utility_matrix)\n",
    "explore_utility_matrix(utility_matrix)"
   ]
  },
  {
   "cell_type": "markdown",
   "metadata": {},
   "source": [
    "### Filter items"
   ]
  },
  {
   "cell_type": "code",
   "execution_count": 7,
   "metadata": {},
   "outputs": [],
   "source": [
    "def filter_items(utility_matrix, MIN_VOTES_PER_ITEM, HARD_LIMIT_ITEMS, seed): \n",
    "    # filter by item popularity\n",
    "    if MIN_VOTES_PER_ITEM is not None:\n",
    "        item_votes = utility_matrix.groupby('movieId')['rating'].count()\n",
    "        print('Original items:', len(item_votes))\n",
    "        item_votes = item_votes[item_votes >= MIN_VOTES_PER_ITEM]\n",
    "        print(f'Keeping {len(item_votes)} items based on number of votes >= {MIN_VOTES_PER_ITEM}')\n",
    "        utility_matrix = utility_matrix[utility_matrix['movieId'].isin(item_votes.index)]\n",
    "        assert utility_matrix.groupby('movieId')['rating'].count().min() >= MIN_VOTES_PER_ITEM\n",
    "        \n",
    "    # randomly filter items to desired amount (!) Before we filter users as this also influences the latter\n",
    "    if HARD_LIMIT_ITEMS is not None:\n",
    "        items = pd.Series(utility_matrix['movieId'].unique()).sample(HARD_LIMIT_ITEMS, random_state=seed)\n",
    "        utility_matrix = utility_matrix[utility_matrix['movieId'].isin(items)]\n",
    "    \n",
    "    print('Utility matrix:', utility_matrix.shape)\n",
    "    return utility_matrix\n",
    "\n",
    "\n",
    "def filter_users(utility_matrix, MIN_VOTES_PER_USER, MAX_VOTES_PER_USER, HARD_LIMIT_USERS, seed): \n",
    "    # filter by user voting\n",
    "    if MIN_VOTES_PER_USER is not None:\n",
    "        user_votes = utility_matrix.groupby('userId')['rating'].count()\n",
    "        print('Original users:', len(user_votes))\n",
    "        user_votes = user_votes[user_votes >= MIN_VOTES_PER_USER]  # at least these many votes on movies\n",
    "        print(f'Keeping {len(user_votes)} users based on number of votes >= {MIN_VOTES_PER_USER}')\n",
    "        utility_matrix = utility_matrix[utility_matrix.index.isin(user_votes.index)]\n",
    "        assert utility_matrix.groupby('userId')['rating'].count().min() >= MIN_VOTES_PER_USER\n",
    "        \n",
    "    if MAX_VOTES_PER_USER is not None:\n",
    "        user_votes = utility_matrix.groupby('userId')['rating'].count()\n",
    "        print('Original users:', len(user_votes))\n",
    "        user_votes = user_votes[user_votes <= MAX_VOTES_PER_USER]  # at least these many votes on movies\n",
    "        print(f'Keeping {len(user_votes)} users based on number of votes <= {MAX_VOTES_PER_USER}')\n",
    "        utility_matrix = utility_matrix[utility_matrix.index.isin(user_votes.index)]\n",
    "        assert utility_matrix.groupby('userId')['rating'].count().max() <= MAX_VOTES_PER_USER\n",
    "    \n",
    "    # randomly filter users to desired amount\n",
    "    if HARD_LIMIT_USERS is not None:\n",
    "        users = utility_matrix.index.unique().to_series().sample(HARD_LIMIT_USERS, random_state=seed)\n",
    "        utility_matrix = utility_matrix[utility_matrix.index.isin(users)]\n",
    "    \n",
    "    print('Utility matrix:', utility_matrix.shape)\n",
    "    return utility_matrix"
   ]
  },
  {
   "cell_type": "markdown",
   "metadata": {},
   "source": [
    "First, we filter the items. They will also be filtered down (unavoidable) later to exclude those we do not have features for."
   ]
  },
  {
   "cell_type": "code",
   "execution_count": 8,
   "metadata": {},
   "outputs": [
    {
     "name": "stdout",
     "output_type": "stream",
     "text": [
      "Original items: 59047\n",
      "Keeping 2957 items based on number of votes >= 1500\n",
      "Utility matrix: (21121291, 3)\n",
      "Number of users: 162538\n",
      "Number of movies: 2957\n",
      "Number of ratings: 21121291\n",
      "Sparcity ratio: 4.3945% of utility matrix is known (non-blank).\n"
     ]
    },
    {
     "data": {
      "image/png": "[encoded data removed]",
      "text/plain": [
       "<Figure size 432x288 with 1 Axes>"
      ]
     },
     "metadata": {
      "needs_background": "light"
     },
     "output_type": "display_data"
    },
    {
     "data": {
      "image/png": "[encoded data removed]",
      "text/plain": [
       "<Figure size 432x288 with 1 Axes>"
      ]
     },
     "metadata": {
      "needs_background": "light"
     },
     "output_type": "display_data"
    },
    {
     "data": {
      "image/png": "[encoded data removed]",
      "text/plain": [
       "<Figure size 432x288 with 1 Axes>"
      ]
     },
     "metadata": {
      "needs_background": "light"
     },
     "output_type": "display_data"
    }
   ],
   "source": [
    "utility_matrix = filter_items(utility_matrix, MIN_VOTES_PER_ITEM, HARD_LIMIT_ITEMS, seed=seed)\n",
    "\n",
    "util_matrix_stats(utility_matrix)\n",
    "explore_utility_matrix(utility_matrix)"
   ]
  },
  {
   "cell_type": "markdown",
   "metadata": {},
   "source": [
    "### Extract features for items\n",
    "\n",
    "Load metadata from IMDB for however many movies you find."
   ]
  },
  {
   "cell_type": "code",
   "execution_count": 9,
   "metadata": {},
   "outputs": [],
   "source": [
    "def load_imdb_dfs(unique_movies: pd.Series, MIN_VOTES=100, MIN_YEAR=MIN_YEAR):\n",
    "    # load each file with tconst (title id) as index\n",
    "    print('Loading IMDB data...')\n",
    "    tconst_files = [\n",
    "        ('title.basics.tsv', None),\n",
    "        ('title.ratings.tsv', None)\n",
    "    ]\n",
    "    all_dfs = []\n",
    "    for file, usecols in tconst_files:\n",
    "        df = pd.read_csv(imdb_path + file, index_col='tconst',  usecols=usecols,\n",
    "                         sep='\\t', encoding='utf-8',\n",
    "                         keep_default_na=False, na_values=['\\\\N'])\n",
    "        all_dfs.append(df)\n",
    "\n",
    "    # combine all into one big fat DataFrame\n",
    "    print('concatenating...')\n",
    "    movies_df = pd.concat(all_dfs, axis=1)\n",
    "    print('Reducing size to movies given...')\n",
    "    movies_df = movies_df[(movies_df['titleType'].isin(['tvMovie', 'movie'])) &\n",
    "                          (movies_df.index.isin(unique_movies.index))]\n",
    "    print('done')\n",
    "\n",
    "    # fix NA and types afterwards as it is not supported for read_csv\n",
    "    movies_df['numVotes'] = movies_df['numVotes'].fillna(0).astype(np.uint16)\n",
    "    movies_df['isAdult'] = movies_df['isAdult'].astype(bool)\n",
    "    movies_df['startYear'] = movies_df['startYear'].fillna(0).astype(np.uint16)\n",
    "    movies_df['endYear'] = movies_df['endYear'].fillna(0).astype(np.uint16)\n",
    "    movies_df['genres'] = movies_df['genres'].fillna('').astype(str)\n",
    "\n",
    "    # filtering\n",
    "    movies_df = movies_df[(movies_df['numVotes'] >= MIN_VOTES) &\n",
    "                          (movies_df['startYear'] >= MIN_YEAR) &\n",
    "                          (~(movies_df['genres'].str.contains('Short', regex=False, na=False))) &\n",
    "                          (movies_df['genres'].str != '')]\n",
    "\n",
    "    print('Loading edges')\n",
    "    principals_df = pd.read_csv(imdb_path + 'title.principals.tsv',\n",
    "                                sep='\\t',\n",
    "                                encoding='utf-8',\n",
    "                                keep_default_na=False,\n",
    "                                na_values=['\\\\N'],\n",
    "                                index_col='tconst',\n",
    "                                usecols=['tconst', 'nconst', 'category'])\n",
    "    principals_df = principals_df[principals_df.index.isin(movies_df.index)]\n",
    "    principals_df = principals_df[principals_df['category'].isin(['actor', 'actress', 'writer', 'director', 'composer'])]\n",
    "\n",
    "    # print(movies_df)\n",
    "    # print(movies_df.shape)\n",
    "    # print(principals_df)\n",
    "    # print(principals_df.shape)\n",
    "\n",
    "    return movies_df, principals_df\n",
    "\n",
    "\n",
    "def load_imdb_metadata_features(unique_movies: pd.Series, MIN_APPEARANCES=MIN_APPEARANCES, save=True):\n",
    "    movies_df, principals_df = load_imdb_dfs(unique_movies)\n",
    "    \n",
    "    # reduce unique_movies to the ones in movies_df TODO\n",
    "    print(f'before: {len(unique_movies)}')\n",
    "    print(unique_movies)\n",
    "    unique_movies = unique_movies[(unique_movies.index.isin(movies_df.index)) & (unique_movies.index.isin(principals_df.index))]\n",
    "    print(f'after: {len(unique_movies)}')\n",
    "    \n",
    "    assert len(unique_movies) > 0\n",
    "\n",
    "    if save:\n",
    "        movies_df.to_csv(movie_imdb_df_file + '.csv', columns=['genres'], mode='w')\n",
    "\n",
    "    all_genres = [\n",
    "        'Action', 'Adventure', 'Animation', 'Comedy', 'Crime', 'Documentary', 'Drama',  'Fantasy',\n",
    "        'Horror', 'Musical', 'Mystery', 'Romance', 'Sci-Fi',  'Thriller', 'War', 'Western', 'Biography', 'Music',\n",
    "        'History', 'Family', 'Sport'\n",
    "        # Rare (for now) categories: 'Film-Noir', 'Children'\n",
    "    ]\n",
    "\n",
    "    # Don't actually need to do this separately:\n",
    "    # actors_mask = (principals_df['category'] == 'actor') | (principals_df['category'] == 'actress')\n",
    "    # all_actors = sorted(list(principals_df['nconst'][actors_mask].unique()))\n",
    "    #\n",
    "    # directors_mask = principals_df['category'] == 'director'\n",
    "    # all_directors = sorted(list(principals_df['nconst'][directors_mask].unique()))\n",
    "    #\n",
    "    # composer_mask = principals_df['category'] == 'composer'\n",
    "    # all_composers = sorted(list(principals_df['nconst'][composer_mask].unique()))\n",
    "\n",
    "    print('Number of personel:', len(principals_df), f'. Removing those with less than {MIN_APPEARANCES} appearances...')\n",
    "    reduced_principals_df = principals_df.groupby('nconst').filter(lambda x: len(x) >= MIN_APPEARANCES)\n",
    "    print(f'Left with {len(reduced_principals_df)}')\n",
    "\n",
    "    all_personnel = sorted(list(reduced_principals_df['nconst'].unique()))\n",
    "\n",
    "    F = len(all_genres) + len(all_personnel)\n",
    "    features = np.zeros((len(unique_movies), F))\n",
    "    for i, movieId in tqdm(enumerate(unique_movies.index), total=len(unique_movies)):\n",
    "        with warnings.catch_warnings():\n",
    "            warnings.simplefilter(\"ignore\")\n",
    "            # multi-hot encode genres\n",
    "            genres = movies_df.loc[movieId]['genres'].split(',')\n",
    "            genres = set([g.replace(' ', '') for g in genres])\n",
    "            genres_feat = multi_hot_encode([genres], all_genres)\n",
    "            # multi-hot encode personel\n",
    "            personnel = set(principals_df.loc[movieId]['nconst'])\n",
    "            personnel_feat = multi_hot_encode([personnel], all_personnel)\n",
    "        \n",
    "        # put together for features\n",
    "        features[i, :len(all_genres)] = genres_feat\n",
    "        features[i, len(all_genres):] = personnel_feat\n",
    "    \n",
    "    return pd.DataFrame(index=unique_movies.index, data=features), movies_df"
   ]
  },
  {
   "cell_type": "code",
   "execution_count": 10,
   "metadata": {},
   "outputs": [
    {
     "name": "stdout",
     "output_type": "stream",
     "text": [
      "Recalculating metadata...\n"
     ]
    },
    {
     "name": "stderr",
     "output_type": "stream",
     "text": [
      "C:\\Users\\mikem\\AppData\\Local\\Temp\\ipykernel_11032\\1827369287.py:16: FutureWarning: The default dtype for empty Series will be 'object' instead of 'float64' in a future version. Specify a dtype explicitly to silence this warning.\n",
      "  unique_movies = pd.Series(index=utility_matrix['movieId'].unique().copy())\n"
     ]
    },
    {
     "name": "stdout",
     "output_type": "stream",
     "text": [
      "Loading IMDB data...\n"
     ]
    },
    {
     "name": "stderr",
     "output_type": "stream",
     "text": [
      "C:\\Users\\mikem\\AppData\\Local\\Temp\\ipykernel_11032\\685920492.py:10: DtypeWarning: Columns (7) have mixed types. Specify dtype option on import or set low_memory=False.\n",
      "  df = pd.read_csv(imdb_path + file, index_col='tconst',  usecols=usecols,\n"
     ]
    },
    {
     "name": "stdout",
     "output_type": "stream",
     "text": [
      "concatenating...\n",
      "Reducing size to movies given...\n",
      "done\n",
      "Loading edges\n",
      "before: 2957\n",
      "tt0110912   NaN\n",
      "tt0111495   NaN\n",
      "tt0108394   NaN\n",
      "tt0045152   NaN\n",
      "tt0092890   NaN\n",
      "             ..\n",
      "tt0422720   NaN\n",
      "tt0158811   NaN\n",
      "tt0100142   NaN\n",
      "tt0086034   NaN\n",
      "tt0073540   NaN\n",
      "Length: 2957, dtype: float64\n",
      "after: 1248\n",
      "Number of personel: 9412 . Removing those with less than 3 appearances...\n",
      "Left with 5097\n"
     ]
    },
    {
     "name": "stderr",
     "output_type": "stream",
     "text": [
      "100%|████████████████████████████████████████████████████████████████████████████████████████████████████████████████████████████████████████████████████████████████████████████████████████████| 1248/1248 [00:00<00:00, 2922.33it/s]\n",
      "C:\\Users\\mikem\\AppData\\Local\\Temp\\ipykernel_11032\\1827369287.py:27: PerformanceWarning: \n",
      "your performance may suffer as PyTables will pickle object types that it cannot\n",
      "map directly to c-types [inferred_type->mixed-integer,key->axis0] [items->None]\n",
      "\n",
      "  metadata.to_hdf(item_metadata_file + '.h5', key='metadata', mode='w')\n"
     ]
    },
    {
     "name": "stdout",
     "output_type": "stream",
     "text": [
      "Found 1248 movies.\n",
      "Saving metadata...\n",
      "OK!\n",
      "Removing movies for which we have no features...\n"
     ]
    },
    {
     "name": "stderr",
     "output_type": "stream",
     "text": [
      "C:\\Users\\mikem\\AppData\\Local\\Temp\\ipykernel_11032\\1827369287.py:27: PerformanceWarning: \n",
      "your performance may suffer as PyTables will pickle object types that it cannot\n",
      "map directly to c-types [inferred_type->mixed-integer,key->block0_items] [items->None]\n",
      "\n",
      "  metadata.to_hdf(item_metadata_file + '.h5', key='metadata', mode='w')\n"
     ]
    },
    {
     "name": "stdout",
     "output_type": "stream",
     "text": [
      "Metadata:  (1248, 2094)\n",
      "Number of users: 117166\n",
      "Number of movies: 1248\n",
      "Number of ratings: 7547164\n",
      "Sparcity ratio: 5.1614% of utility matrix is known (non-blank).\n"
     ]
    }
   ],
   "source": [
    "if extract_features:\n",
    "    # load audio features\n",
    "    if use_audio:\n",
    "        audio_features = pd.read_csv('../data/audio_features.csv', index_col='movieId', sep=';')\n",
    "        # filter utility matrix to contain only movies for which we have audio\n",
    "        utility_matrix = utility_matrix[utility_matrix['movieId'].isin(audio_features.index)]\n",
    "        # utility_matrix = audio_features.join(utility_matrix, on='movieId', how='inner')\n",
    "        print('Samples after keeping only audio movies:', utility_matrix.shape[0])\n",
    "    \n",
    "    # util_matrix_stats(utility_matrix)\n",
    "    # assert len(utility_matrix) < 10000000, f\"Utility matrix is going too be too big: {len(utility_matrix)}\"\n",
    "    \n",
    "    # load movie features from only for movies in movieLens (for which we have ratings)\n",
    "    if recalculate_metadata:\n",
    "        print('Recalculating metadata...')\n",
    "        unique_movies = pd.Series(index=utility_matrix['movieId'].unique().copy())\n",
    "        imdb_metadata, movies_df = load_imdb_metadata_features(unique_movies)\n",
    "        if use_genome_tags:\n",
    "            genome_metadata = genome_metadata[genome_metadata.index.isin(unique_movies.index)]\n",
    "            metadata = imdb_metadata.join(genome_metadata)\n",
    "            metadata = metadata.fillna(0.0)   # shouldn't be any but just in case\n",
    "        else:\n",
    "            metadata = imdb_metadata\n",
    "        \n",
    "        # save metadata\n",
    "        print(f'Found {metadata.shape[0]} movies.\\nSaving metadata...')\n",
    "        metadata.to_hdf(item_metadata_file + '.h5', key='metadata', mode='w')\n",
    "        print('OK!')\n",
    "    else:\n",
    "        metadata = pd.read_hdf(item_metadata_file + '.h5', key='metadata')\n",
    "        movies_df = None\n",
    "    \n",
    "    # Note: there can still be movies in ratings for which we have no features\n",
    "    # so remove them like this:\n",
    "    print('Removing movies for which we have no features...')\n",
    "    utility_matrix = utility_matrix[utility_matrix['movieId'].isin(metadata.index)]\n",
    "    \n",
    "    # Note to check statistics: metadata.sum(axis=0)\n",
    "    print(\"Metadata: \", metadata.shape)\n",
    "    # print('Statistics:')\n",
    "    # print(metadata.sum(axis=0))\n",
    "    \n",
    "    util_matrix_stats(utility_matrix)\n"
   ]
  },
  {
   "cell_type": "markdown",
   "metadata": {},
   "source": [
    "### Filter users\n",
    "\n",
    "Now, after being done with items, we filter the users so that they have the desired properties."
   ]
  },
  {
   "cell_type": "code",
   "execution_count": 11,
   "metadata": {},
   "outputs": [
    {
     "name": "stdout",
     "output_type": "stream",
     "text": [
      "Original users: 117166\n",
      "Keeping 21969 users based on number of votes >= 100\n",
      "Original users: 21969\n",
      "Keeping 19886 users based on number of votes <= 400\n",
      "Utility matrix: (924273, 3)\n"
     ]
    }
   ],
   "source": [
    "# filter again to make sure we get what we wanted\n",
    "utility_matrix = filter_users(utility_matrix, MIN_VOTES_PER_USER, MAX_VOTES_PER_USER, HARD_LIMIT_USERS, seed=seed)"
   ]
  },
  {
   "cell_type": "code",
   "execution_count": 12,
   "metadata": {},
   "outputs": [
    {
     "name": "stdout",
     "output_type": "stream",
     "text": [
      "Number of users: 5000\n",
      "Number of movies: 1248\n",
      "Number of ratings: 924273\n",
      "Sparcity ratio: 14.8121% of utility matrix is known (non-blank).\n"
     ]
    },
    {
     "data": {
      "image/png": "[encoded data removed]",
      "text/plain": [
       "<Figure size 432x288 with 1 Axes>"
      ]
     },
     "metadata": {
      "needs_background": "light"
     },
     "output_type": "display_data"
    },
    {
     "data": {
      "image/png": "[encoded data removed]",
      "text/plain": [
       "<Figure size 432x288 with 1 Axes>"
      ]
     },
     "metadata": {
      "needs_background": "light"
     },
     "output_type": "display_data"
    },
    {
     "data": {
      "image/png": "[encoded data removed]",
      "text/plain": [
       "<Figure size 432x288 with 1 Axes>"
      ]
     },
     "metadata": {
      "needs_background": "light"
     },
     "output_type": "display_data"
    }
   ],
   "source": [
    "util_matrix_stats(utility_matrix)\n",
    "explore_utility_matrix(utility_matrix)"
   ]
  },
  {
   "cell_type": "markdown",
   "metadata": {},
   "source": [
    "Filter items again to ensure FINAL_MIN_VOTES_PER_ITEM."
   ]
  },
  {
   "cell_type": "code",
   "execution_count": 13,
   "metadata": {},
   "outputs": [
    {
     "name": "stdout",
     "output_type": "stream",
     "text": [
      "Original items: 1248\n",
      "Keeping 1174 items based on number of votes >= 200\n",
      "Utility matrix: (910891, 3)\n"
     ]
    }
   ],
   "source": [
    "utility_matrix = filter_items(utility_matrix, FINAL_MIN_VOTES_PER_ITEM, HARD_LIMIT_ITEMS, seed=seed)"
   ]
  },
  {
   "cell_type": "markdown",
   "metadata": {},
   "source": [
    "### Final Utility Matrix stats"
   ]
  },
  {
   "cell_type": "code",
   "execution_count": 14,
   "metadata": {},
   "outputs": [
    {
     "name": "stdout",
     "output_type": "stream",
     "text": [
      "Number of users: 5000\n",
      "Number of movies: 1174\n",
      "Number of ratings: 910891\n",
      "Sparcity ratio: 15.5177% of utility matrix is known (non-blank).\n"
     ]
    },
    {
     "data": {
      "image/png": "[encoded data removed]",
      "text/plain": [
       "<Figure size 432x288 with 1 Axes>"
      ]
     },
     "metadata": {
      "needs_background": "light"
     },
     "output_type": "display_data"
    },
    {
     "data": {
      "image/png": "[encoded data removed]",
      "text/plain": [
       "<Figure size 432x288 with 1 Axes>"
      ]
     },
     "metadata": {
      "needs_background": "light"
     },
     "output_type": "display_data"
    },
    {
     "data": {
      "image/png": "[encoded data removed]",
      "text/plain": [
       "<Figure size 432x288 with 1 Axes>"
      ]
     },
     "metadata": {
      "needs_background": "light"
     },
     "output_type": "display_data"
    }
   ],
   "source": [
    "util_matrix_stats(utility_matrix)\n",
    "explore_utility_matrix(utility_matrix)"
   ]
  },
  {
   "cell_type": "code",
   "execution_count": 15,
   "metadata": {},
   "outputs": [],
   "source": [
    "jac_sim = explore_correlations(utility_matrix)"
   ]
  },
  {
   "cell_type": "code",
   "execution_count": 16,
   "metadata": {},
   "outputs": [
    {
     "name": "stdout",
     "output_type": "stream",
     "text": [
      "Mean jaccard similarity value: 0.7234696139234807\n"
     ]
    }
   ],
   "source": [
    "print('Mean jaccard similarity value:', jac_sim.mean().mean())   # the higher the better for potentially finding patterns I think"
   ]
  },
  {
   "cell_type": "markdown",
   "metadata": {},
   "source": [
    "### Examine item metadata"
   ]
  },
  {
   "cell_type": "code",
   "execution_count": 17,
   "metadata": {},
   "outputs": [
    {
     "data": {
      "image/png": "[encoded data removed]",
      "text/plain": [
       "<Figure size 432x288 with 1 Axes>"
      ]
     },
     "metadata": {
      "needs_background": "light"
     },
     "output_type": "display_data"
    },
    {
     "data": {
      "image/png": "[encoded data removed]",
      "text/plain": [
       "<Figure size 432x288 with 1 Axes>"
      ]
     },
     "metadata": {
      "needs_background": "light"
     },
     "output_type": "display_data"
    }
   ],
   "source": [
    "def examine_items(movies_df):\n",
    "    # years\n",
    "    plt.title(\"Movie years\")\n",
    "    plt.xlabel(\"year\")\n",
    "    plt.ylabel(\"# of movies\")\n",
    "    movies_df['startYear'].hist(bins=20)\n",
    "    plt.xticks(list(range(movies_df['startYear'].min(), movies_df['startYear'].max(), 5)))\n",
    "    plt.show()\n",
    "    \n",
    "    # genres\n",
    "    all_genres = [\n",
    "        'Action', 'Adventure', 'Animation', 'Children', 'Comedy', 'Crime', 'Documentary', 'Drama',  'Fantasy',\n",
    "        'Film-Noir', 'Horror', 'Musical', 'Mystery', 'Romance', 'Sci-Fi',  'Thriller', 'War', 'Western', 'Biography', 'Music',\n",
    "        'History', 'Family', 'Sport'\n",
    "    ]\n",
    "    with warnings.catch_warnings():\n",
    "        warnings.simplefilter(\"ignore\")\n",
    "        m = movies_df['genres'].apply(lambda x: multi_hot_encode([x.split(',')], all_genres)[0])\n",
    "    m = pd.DataFrame(m.to_list(), columns=all_genres)\n",
    "    \n",
    "    plt.title(\"Genre distribution of movies\")\n",
    "    plt.xlabel(\"genre\")\n",
    "    plt.ylabel(\"# of movies\")\n",
    "    m.sum(axis=0).plot.bar()\n",
    "    plt.show()\n",
    "    \n",
    "    # TODO: others?\n",
    "    \n",
    "\n",
    "if extract_features and movies_df is not None:\n",
    "    examine_items(movies_df)"
   ]
  },
  {
   "cell_type": "markdown",
   "metadata": {},
   "source": [
    "## Train-val-test split"
   ]
  },
  {
   "cell_type": "markdown",
   "metadata": {},
   "source": [
    "There are many ways to perform train-val-test split depending on which generalization ability we are interested in measuring (i.e. depending on our task) (training is not affected). "
   ]
  },
  {
   "cell_type": "code",
   "execution_count": 18,
   "metadata": {},
   "outputs": [],
   "source": [
    "def train_val_test_split_flat(utility_matrix, val_size, test_size, seed):\n",
    "    \"\"\" Random split on all interactions of the utility matrix\n",
    "        Doesn't measure generalization to new users or items, only to unknown interactions between known user/items as in pure CF\n",
    "    \"\"\"\n",
    "    \n",
    "    # set random seed for reproducability\n",
    "    np.random.seed(seed)\n",
    "\n",
    "    # determine splits in a shuffled order of all samples like so:\n",
    "    # | <-- val set --> | <-- test set --> | <--------- train set ---------> |\n",
    "    size = len(utility_matrix)\n",
    "    val_split = int(np.floor(val_size * size))\n",
    "    test_split = val_split + int(np.floor(test_size * size))\n",
    "\n",
    "    # randomly shuffly the indexes of all data\n",
    "    indices = list(range(size))\n",
    "    np.random.shuffle(indices)\n",
    "\n",
    "    # apply splits to get mutually exclusive subsets of the original data\n",
    "    val = utility_matrix.iloc[indices[:val_split]]\n",
    "    test = utility_matrix.iloc[indices[val_split: test_split]]\n",
    "    train = utility_matrix.iloc[indices[test_split:]]\n",
    "    \n",
    "    return train, val, test\n",
    "\n",
    "\n",
    "def train_val_test_split_leave_percentage(utility_matrix, val_size, test_size, seed):\n",
    "    \"\"\" Randomly select val_num, test_num interactions per user to hold out for val and test sets.\n",
    "        Equally represents each user in the val/test sets despite how many interaction he has overall.\n",
    "    \"\"\"\n",
    "    \n",
    "    # set random seed for reproducability\n",
    "    np.random.seed(seed)\n",
    "    \n",
    "    # get users from matrix\n",
    "    users = utility_matrix.index.unique().to_series()\n",
    "\n",
    "    train, val, test = [], [], []\n",
    "    for u in tqdm(users, total=len(users)):\n",
    "        user_interactions = utility_matrix.loc[u]\n",
    "        \n",
    "        # determine splits in a shuffled order of all samples like so:\n",
    "        # | <-- val set --> | <-- test set --> | <--------- train set ---------> |\n",
    "        size = len(user_interactions)\n",
    "        val_split = max(int(np.floor(val_size * size)), 2)\n",
    "        test_split = val_split + max(int(np.floor(test_size * size)), 2)\n",
    "\n",
    "        # randomly shuffly the indexes of all users\n",
    "        indices = list(range(size))\n",
    "        np.random.shuffle(indices)\n",
    "        \n",
    "        # apply splits\n",
    "        val.append(user_interactions[:val_split])\n",
    "        test.append(user_interactions[val_split: test_split])\n",
    "        train.append(user_interactions[test_split:])\n",
    "    \n",
    "    train = pd.concat(train)\n",
    "    val = pd.concat(val)\n",
    "    test = pd.concat(test)\n",
    "    \n",
    "    return train, val, test\n",
    "\n",
    "\n",
    "\n",
    "\n",
    "def train_val_test_split_leave_k(utility_matrix, val_num, test_num, seed):\n",
    "    \"\"\" Randomly select val_num, test_num interactions per user to hold out for val and test sets.\n",
    "        Equally represents each user in the val/test sets despite how many interaction he has overall.\n",
    "    \"\"\"\n",
    "    \n",
    "    # set random seed for reproducability\n",
    "    np.random.seed(seed)\n",
    "    \n",
    "    # get users from matrix\n",
    "    users = utility_matrix.index.unique().to_series()\n",
    "\n",
    "    train, val, test = [], [], []\n",
    "    for u in tqdm(users, total=len(users)):\n",
    "        user_interactions = utility_matrix.loc[u]\n",
    "        \n",
    "        # determine splits in a shuffled order of all samples like so:\n",
    "        # | <-- val set --> | <-- test set --> | <--------- train set ---------> |\n",
    "        assert val_num + test_num < len(user_interactions) / 2, \"Choose lower val and test nums\"\n",
    "        val_split = val_num\n",
    "        test_split = val_num + test_num\n",
    "\n",
    "        # randomly shuffly the indexes of all users\n",
    "        size = len(user_interactions)\n",
    "        indices = list(range(size))\n",
    "        np.random.shuffle(indices)\n",
    "        \n",
    "        # apply splits\n",
    "        val.append(user_interactions[:val_split])\n",
    "        test.append(user_interactions[val_split: test_split])\n",
    "        train.append(user_interactions[test_split:])\n",
    "    \n",
    "    train = pd.concat(train)\n",
    "    val = pd.concat(val)\n",
    "    test = pd.concat(test)\n",
    "    \n",
    "    return train, val, test\n",
    "\n",
    "\n",
    "def train_val_test_split_on_users(utility_matrix, val_size, test_size, seed):\n",
    "    \"\"\" Random split on users of the utility matrix. All interactions associated with a user go with him on the same set. \n",
    "        Measures generalization to new users but considers items fixed.\n",
    "    \"\"\"\n",
    "    \n",
    "    # set random seed for reproducability\n",
    "    np.random.seed(seed)\n",
    "    \n",
    "    # get users from matrix\n",
    "    users = utility_matrix.index.unique().to_series()\n",
    "\n",
    "    # determine splits in a shuffled order of all samples like so:\n",
    "    # | <-- val set --> | <-- test set --> | <--------- train set ---------> |\n",
    "    size = len(users)\n",
    "    val_split = int(np.floor(val_size * size))\n",
    "    test_split = val_split + int(np.floor(test_size * size))\n",
    "\n",
    "    # randomly shuffly the indexes of all users\n",
    "    indices = list(range(size))\n",
    "    np.random.shuffle(indices)\n",
    "    \n",
    "    # apply splits to users and from them get mutually exclusive subsets of the original data\n",
    "    val = utility_matrix.loc[users.iloc[indices[:val_split]]]\n",
    "    test = utility_matrix.loc[users.iloc[indices[val_split: test_split]]]\n",
    "    train = utility_matrix.loc[users.iloc[indices[test_split:]]]\n",
    "    \n",
    "    return train, val, test"
   ]
  },
  {
   "cell_type": "code",
   "execution_count": 19,
   "metadata": {},
   "outputs": [
    {
     "name": "stderr",
     "output_type": "stream",
     "text": [
      "100%|████████████████████████████████████████████████████████████████████████████████████████████████████████████████████████████████████████████████████████████████████████████████████████████| 5000/5000 [00:00<00:00, 5781.77it/s]\n"
     ]
    },
    {
     "data": {
      "text/plain": [
       "(733165, 88863, 88863)"
      ]
     },
     "execution_count": 19,
     "metadata": {},
     "output_type": "execute_result"
    }
   ],
   "source": [
    "# TODO: Which of the two splitting methods?\n",
    "# train, val, test = train_val_test_split_leave_k(utility_matrix, val_num=5, test_num=5, seed=seed)\n",
    "train, val, test = train_val_test_split_leave_percentage(utility_matrix, val_size, test_size, seed)\n",
    "# train, val, test = train_val_test_split_flat(utility_matrix, val_size, test_size, seed)\n",
    "train.shape[0], val.shape[0], test.shape[0]"
   ]
  },
  {
   "cell_type": "code",
   "execution_count": 20,
   "metadata": {},
   "outputs": [],
   "source": [
    "# train.shape[0], val.shape[0], test.shape[0]"
   ]
  },
  {
   "cell_type": "markdown",
   "metadata": {},
   "source": [
    "Save sets."
   ]
  },
  {
   "cell_type": "code",
   "execution_count": 21,
   "metadata": {},
   "outputs": [],
   "source": [
    "def save_set(matrix: pd.DataFrame, name: str):\n",
    "    matrix.to_csv(name + '.csv', columns=['movieId', 'rating'], mode='w')\n",
    "\n",
    "save_set(train, train_set_file)\n",
    "save_set(val, val_set_file)\n",
    "save_set(test, test_set_file)\n",
    "save_set(utility_matrix, full_matrix_file)"
   ]
  },
  {
   "cell_type": "markdown",
   "metadata": {},
   "source": [
    "Exploration of sets. Remember that, if we are flat splitting, each user will potentially have interactions randomly distributed across all sets."
   ]
  },
  {
   "cell_type": "code",
   "execution_count": 22,
   "metadata": {},
   "outputs": [
    {
     "name": "stdout",
     "output_type": "stream",
     "text": [
      "Number of users: 5000\n",
      "Number of movies: 1148\n",
      "Number of ratings: 733165\n",
      "Sparcity ratio: 12.7729% of utility matrix is known (non-blank).\n"
     ]
    },
    {
     "data": {
      "image/png": "[encoded data removed]",
      "text/plain": [
       "<Figure size 432x288 with 1 Axes>"
      ]
     },
     "metadata": {
      "needs_background": "light"
     },
     "output_type": "display_data"
    },
    {
     "data": {
      "image/png": "[encoded data removed]",
      "text/plain": [
       "<Figure size 432x288 with 1 Axes>"
      ]
     },
     "metadata": {
      "needs_background": "light"
     },
     "output_type": "display_data"
    },
    {
     "data": {
      "image/png": "[encoded data removed]",
      "text/plain": [
       "<Figure size 432x288 with 1 Axes>"
      ]
     },
     "metadata": {
      "needs_background": "light"
     },
     "output_type": "display_data"
    }
   ],
   "source": [
    "util_matrix_stats(train)\n",
    "explore_utility_matrix(train)"
   ]
  },
  {
   "cell_type": "code",
   "execution_count": 23,
   "metadata": {},
   "outputs": [
    {
     "name": "stdout",
     "output_type": "stream",
     "text": [
      "Number of users: 5000\n",
      "Number of movies: 443\n",
      "Number of ratings: 88863\n",
      "Sparcity ratio: 4.0119% of utility matrix is known (non-blank).\n"
     ]
    },
    {
     "data": {
      "image/png": "[encoded data removed]",
      "text/plain": [
       "<Figure size 432x288 with 1 Axes>"
      ]
     },
     "metadata": {
      "needs_background": "light"
     },
     "output_type": "display_data"
    },
    {
     "data": {
      "image/png": "[encoded data removed]",
      "text/plain": [
       "<Figure size 432x288 with 1 Axes>"
      ]
     },
     "metadata": {
      "needs_background": "light"
     },
     "output_type": "display_data"
    },
    {
     "data": {
      "image/png": "[encoded data removed]",
      "text/plain": [
       "<Figure size 432x288 with 1 Axes>"
      ]
     },
     "metadata": {
      "needs_background": "light"
     },
     "output_type": "display_data"
    }
   ],
   "source": [
    "util_matrix_stats(val)\n",
    "explore_utility_matrix(val)"
   ]
  },
  {
   "cell_type": "code",
   "execution_count": 24,
   "metadata": {},
   "outputs": [
    {
     "name": "stdout",
     "output_type": "stream",
     "text": [
      "Number of users: 5000\n",
      "Number of movies: 705\n",
      "Number of ratings: 88863\n",
      "Sparcity ratio: 2.5209% of utility matrix is known (non-blank).\n"
     ]
    },
    {
     "data": {
      "image/png": "[encoded data removed]",
      "text/plain": [
       "<Figure size 432x288 with 1 Axes>"
      ]
     },
     "metadata": {
      "needs_background": "light"
     },
     "output_type": "display_data"
    },
    {
     "data": {
      "image/png": "[encoded data removed]",
      "text/plain": [
       "<Figure size 432x288 with 1 Axes>"
      ]
     },
     "metadata": {
      "needs_background": "light"
     },
     "output_type": "display_data"
    },
    {
     "data": {
      "image/png": "[encoded data removed]",
      "text/plain": [
       "<Figure size 432x288 with 1 Axes>"
      ]
     },
     "metadata": {
      "needs_background": "light"
     },
     "output_type": "display_data"
    }
   ],
   "source": [
    "util_matrix_stats(test)\n",
    "explore_utility_matrix(test)"
   ]
  },
  {
   "cell_type": "markdown",
   "metadata": {},
   "source": [
    "## Extract user ratings and fixed user embeddings from features"
   ]
  },
  {
   "cell_type": "code",
   "execution_count": 25,
   "metadata": {},
   "outputs": [
    {
     "name": "stdout",
     "output_type": "stream",
     "text": [
      "(5000, 4)\n",
      "User ratings:\n",
      "                                                    rating  \\\n",
      "userId                                                      \n",
      "4       [3.5, 2.5, 2.0, 3.5, 3.5, 1.5, 3.5, 3.5, 3.5, ...   \n",
      "19      [3.0, 3.5, 5.0, 5.0, 3.0, 3.0, 2.5, 2.5, 4.5, ...   \n",
      "43      [4.5, 2.5, 0.5, 0.5, 4.0, 4.5, 4.0, 3.0, 2.5, ...   \n",
      "174     [0.5, 0.5, 5.0, 5.0, 3.5, 5.0, 0.5, 0.5, 5.0, ...   \n",
      "207     [3.5, 2.5, 2.5, 4.0, 4.5, 1.5, 3.0, 3.5, 3.5, ...   \n",
      "...                                                   ...   \n",
      "162452  [4.0, 5.0, 5.0, 3.0, 4.5, 2.0, 3.5, 4.0, 5.0, ...   \n",
      "162467  [3.5, 4.5, 4.5, 4.0, 3.0, 3.0, 5.0, 2.5, 4.5, ...   \n",
      "162512  [2.5, 3.0, 3.0, 4.0, 4.0, 4.0, 4.0, 4.5, 4.0, ...   \n",
      "162515  [4.0, 3.0, 4.0, 3.5, 2.5, 4.0, 4.0, 4.5, 2.0, ...   \n",
      "162533  [5.0, 2.5, 3.0, 4.0, 3.5, 5.0, 5.0, 2.5, 3.0, ...   \n",
      "\n",
      "                                                  movieId  meanRating  \\\n",
      "userId                                                                  \n",
      "4       [tt0312004, tt0317219, tt0327084, tt0361748, t...    3.201389   \n",
      "19      [tt0121164, tt0121766, tt0167260, tt0167261, t...    3.160256   \n",
      "43      [tt0120737, tt0120912, tt0121765, tt0121766, t...    3.320388   \n",
      "174     [tt0145487, tt0167261, tt0181689, tt0217505, t...    2.794355   \n",
      "207     [tt0167190, tt0167260, tt0167261, tt0183649, t...    3.690722   \n",
      "...                                                   ...         ...   \n",
      "162452  [tt0121766, tt0206634, tt0276919, tt0289879, t...    3.971503   \n",
      "162467  [tt0167190, tt0289879, tt0293508, tt0293564, t...    3.659509   \n",
      "162512  [tt0120912, tt0121765, tt0121766, tt0167260, t...    3.950820   \n",
      "162515  [tt0121766, tt0167190, tt0167260, tt0167261, t...    3.537736   \n",
      "162533  [tt0120737, tt0120912, tt0121765, tt0121766, t...    3.477444   \n",
      "\n",
      "        numRatings  \n",
      "userId              \n",
      "4              144  \n",
      "19             156  \n",
      "43             103  \n",
      "174            124  \n",
      "207             97  \n",
      "...            ...  \n",
      "162452         193  \n",
      "162467         163  \n",
      "162512         122  \n",
      "162515         106  \n",
      "162533         133  \n",
      "\n",
      "[5000 rows x 4 columns]\n",
      "Saving user ratings from train set only...\n"
     ]
    },
    {
     "name": "stderr",
     "output_type": "stream",
     "text": [
      "C:\\Users\\mikem\\AppData\\Local\\Temp\\ipykernel_11032\\3166618377.py:23: PerformanceWarning: \n",
      "your performance may suffer as PyTables will pickle object types that it cannot\n",
      "map directly to c-types [inferred_type->mixed,key->block2_values] [items->Index(['rating', 'movieId'], dtype='object')]\n",
      "\n",
      "  user_ratings.to_hdf(user_ratings_file + '.h5', key='user_ratings', mode='w')\n"
     ]
    },
    {
     "name": "stdout",
     "output_type": "stream",
     "text": [
      "OK!\n"
     ]
    },
    {
     "data": {
      "image/png": "[encoded data removed]",
      "text/plain": [
       "<Figure size 432x288 with 1 Axes>"
      ]
     },
     "metadata": {
      "needs_background": "light"
     },
     "output_type": "display_data"
    },
    {
     "name": "stdout",
     "output_type": "stream",
     "text": [
      "Creating user embeddings...\n"
     ]
    },
    {
     "name": "stderr",
     "output_type": "stream",
     "text": [
      "Creating user embeddings...: 100%|████████████████████████████████████████████████████████████████████████████████████████████████████████████████████████████████████████████████████████████████| 5000/5000 [00:13<00:00, 365.48it/s]\n"
     ]
    },
    {
     "name": "stdout",
     "output_type": "stream",
     "text": [
      "Saving...\n",
      "Done\n"
     ]
    }
   ],
   "source": [
    "def create_user_embedding(user_ratings: pd.DataFrame, metadata: pd.DataFrame):\n",
    "    avg_rating = (user_ratings['rating'].mean() + 2.5) / 2      # TODO: move average towards neutral 2.5?\n",
    "    return ((user_ratings['rating'] - avg_rating).reshape(-1, 1) * metadata.loc[user_ratings['movieId']].values).mean(axis=0)\n",
    "\n",
    "\n",
    "if save_user_ratings:\n",
    "    \n",
    "    # TODO: Which should I use? Train would be an obvious choice but what if we re splitting on users\n",
    "    ratings_to_use = train\n",
    "    \n",
    "    \n",
    "    # IMPORTANT to sort by movieId\n",
    "    user_ratings: pd.DataFrame = ratings_to_use.drop('timestamp', axis=1).sort_values(by='movieId').groupby('userId').agg({'rating': list, 'movieId': list})\n",
    "    user_ratings['rating'] = user_ratings['rating'].apply(lambda x: np.array(x))\n",
    "    user_ratings['movieId'] = user_ratings['movieId'].apply(lambda x: np.array(x))\n",
    "    user_ratings['meanRating'] = user_ratings['rating'].apply(lambda x: np.mean(x))\n",
    "    user_ratings['numRatings'] = user_ratings['rating'].apply(lambda x: len(x))\n",
    "    \n",
    "    print(user_ratings.shape)\n",
    "    print('User ratings:\\n', user_ratings)\n",
    "\n",
    "    print('Saving user ratings from train set only...')\n",
    "    user_ratings.to_hdf(user_ratings_file + '.h5', key='user_ratings', mode='w')\n",
    "    print('OK!')\n",
    "    \n",
    "    # print(f'Average number of ratings per user (in train set): {user_ratings[\"rating\"].apply(lambda x: len(x)).mean()}')\n",
    "    plt.ylabel(\"# of ratings\")\n",
    "    plt.xlabel(\"users\")\n",
    "    user_ratings[\"rating\"].apply(lambda x: len(x)).hist()\n",
    "    plt.show()\n",
    "    \n",
    "    if extract_features and create_user_embeddings_too:\n",
    "        # create user_embeddings from user ratings once beforehand\n",
    "        # Note: This takes a very long time\n",
    "        print('Creating user embeddings...')\n",
    "        user_embeddings = pd.DataFrame(index=user_ratings.index.unique().copy(), data=np.zeros((len(user_ratings.index.unique()), metadata.shape[1])))\n",
    "        for userId, user_ratings in tqdm(user_ratings.groupby('userId'), desc='Creating user embeddings...'):\n",
    "            # Note: iloc[0] is needed because of some weird encapsulation idk\n",
    "            user_embeddings.at[userId, :] = create_user_embedding(user_ratings.iloc[0], metadata)\n",
    "        \n",
    "        print('Saving...')\n",
    "        user_embeddings.to_hdf(user_embeddings_file + '.h5', key='user_embeddings', mode='w')\n",
    "        print('Done')"
   ]
  },
  {
   "cell_type": "markdown",
   "metadata": {},
   "source": [
    "## Create ranking dataset\n",
    "\n",
    "To create a corresponding dataset with $(user, item, item)$ triplets $(u, i, j)$ where $i$ should be ranked higher than $j$ for user $u$ we collect all possible negatives $j$ options for each $(u, i)$ user - positive item pair. During training we will sample one negative from all the options gathered here based on some formula."
   ]
  },
  {
   "cell_type": "code",
   "execution_count": 26,
   "metadata": {},
   "outputs": [
    {
     "name": "stderr",
     "output_type": "stream",
     "text": [
      "100%|███████████████████████████████████████████████████████████████████████████████████████████████████████████████████████████████████████████████████████████████████████████████████████████| 41609/41609 [01:38<00:00, 422.54it/s]\n",
      "C:\\Users\\mikem\\miniconda3\\envs\\dl\\lib\\site-packages\\tables\\path.py:137: NaturalNameWarning: object name is not a valid Python identifier: '..'; it does not match the pattern ``^[a-zA-Z_][a-zA-Z0-9_]*$``; you will not be able to use natural naming to access this object; using ``getattr()`` will still work, though\n",
      "  check_attribute_name(name)\n"
     ]
    },
    {
     "name": "stdout",
     "output_type": "stream",
     "text": [
      "Saving set...\n"
     ]
    },
    {
     "name": "stderr",
     "output_type": "stream",
     "text": [
      "C:\\Users\\mikem\\AppData\\Local\\Temp\\ipykernel_11032\\1227248424.py:5: PerformanceWarning: \n",
      "your performance may suffer as PyTables will pickle object types that it cannot\n",
      "map directly to c-types [inferred_type->mixed,key->block1_values] [items->Index(['positive_movieId', 'negative_movieIds', 'negative_ratings'], dtype='object')]\n",
      "\n",
      "  matrix.to_hdf(name + '.h5', mode='w', index=False, key=name)\n"
     ]
    },
    {
     "name": "stdout",
     "output_type": "stream",
     "text": [
      "Ok!\n"
     ]
    }
   ],
   "source": [
    "np.random.seed(seed)         # set seed (once) for reproducible results\n",
    "\n",
    "\n",
    "def save_ranking_set(matrix: pd.DataFrame, name: str):\n",
    "    matrix.to_hdf(name + '.h5', mode='w', index=False, key=name)\n",
    "\n",
    "\n",
    "# create triplets only for train set (val ndcg as val loss, test loss is pointless)\n",
    "samples = train\n",
    "frac = None  #  Use None so as to keep all options\n",
    "# min and max negative samples per positive sample TODO: WRONG, it is sampling entire rating categories instead of negatives...\n",
    "min_samples = 1\n",
    "max_samples = 20\n",
    "\n",
    "options = []\n",
    "triplets = []\n",
    "per_user = samples.groupby(['userId', 'rating']).agg(list) \n",
    "for (userId, rating), row in tqdm(per_user.iterrows(), total=per_user.shape[0]):\n",
    "    other_user_ratings = per_user.loc[userId, :]\n",
    "    other_user_ratings = other_user_ratings[other_user_ratings.index < rating]\n",
    "\n",
    "    if other_user_ratings.shape[0] == 0:      # nothing to pair\n",
    "        continue        \n",
    "\n",
    "    # for each positive sample\n",
    "    for movie1 in row['movieId']:\n",
    "        # sample through all possible negatives (potentially different sample for each positive)\n",
    "        if frac is not None:\n",
    "            pool = other_user_ratings.sample(n=min(max_samples, max(min_samples, round(frac * other_user_ratings.shape[0]))),\n",
    "                                             weights=other_user_ratings.index)   # give somewhat higher weight to higher ratings\n",
    "            options.append(pool.shape[0])\n",
    "        else:\n",
    "            pool = other_user_ratings\n",
    "\n",
    "        # gather possible negatives\n",
    "        negatives = []\n",
    "        ratings = []\n",
    "        for rating2, row2 in pool.iterrows():\n",
    "            if rating > rating2:              # probably redundant but just in case\n",
    "                for movie2 in row2['movieId']:\n",
    "                    negatives.append(movie2)\n",
    "                    ratings.append(rating2)\n",
    "\n",
    "        if len(negatives) > 0:\n",
    "            triplets.append((userId, movie1, negatives, ratings))\n",
    "\n",
    "triplet_df = pd.DataFrame(triplets, columns=['userId', 'positive_movieId', 'negative_movieIds', 'negative_ratings'])\n",
    "print('Saving set...')\n",
    "save_ranking_set(triplet_df, f'../data/ranking_train')   # TODO: hardcoded path should be in globals?\n",
    "print('Ok!')"
   ]
  },
  {
   "cell_type": "code",
   "execution_count": 27,
   "metadata": {},
   "outputs": [
    {
     "data": {
      "text/html": [
       "<div>\n",
       "<style scoped>\n",
       "    .dataframe tbody tr th:only-of-type {\n",
       "        vertical-align: middle;\n",
       "    }\n",
       "\n",
       "    .dataframe tbody tr th {\n",
       "        vertical-align: top;\n",
       "    }\n",
       "\n",
       "    .dataframe thead th {\n",
       "        text-align: right;\n",
       "    }\n",
       "</style>\n",
       "<table border=\"1\" class=\"dataframe\">\n",
       "  <thead>\n",
       "    <tr style=\"text-align: right;\">\n",
       "      <th></th>\n",
       "      <th>userId</th>\n",
       "      <th>positive_movieId</th>\n",
       "      <th>negative_movieIds</th>\n",
       "      <th>negative_ratings</th>\n",
       "    </tr>\n",
       "  </thead>\n",
       "  <tbody>\n",
       "    <tr>\n",
       "      <th>0</th>\n",
       "      <td>4</td>\n",
       "      <td>tt0449010</td>\n",
       "      <td>[tt0814255, tt0409847, tt1446714, tt4154756]</td>\n",
       "      <td>[0.5, 0.5, 0.5, 0.5]</td>\n",
       "    </tr>\n",
       "    <tr>\n",
       "      <th>1</th>\n",
       "      <td>4</td>\n",
       "      <td>tt0844471</td>\n",
       "      <td>[tt0814255, tt0409847, tt1446714, tt4154756]</td>\n",
       "      <td>[0.5, 0.5, 0.5, 0.5]</td>\n",
       "    </tr>\n",
       "    <tr>\n",
       "      <th>2</th>\n",
       "      <td>4</td>\n",
       "      <td>tt1228705</td>\n",
       "      <td>[tt0814255, tt0409847, tt1446714, tt4154756]</td>\n",
       "      <td>[0.5, 0.5, 0.5, 0.5]</td>\n",
       "    </tr>\n",
       "    <tr>\n",
       "      <th>3</th>\n",
       "      <td>4</td>\n",
       "      <td>tt0926084</td>\n",
       "      <td>[tt0814255, tt0409847, tt1446714, tt4154756]</td>\n",
       "      <td>[0.5, 0.5, 0.5, 0.5]</td>\n",
       "    </tr>\n",
       "    <tr>\n",
       "      <th>4</th>\n",
       "      <td>4</td>\n",
       "      <td>tt1133985</td>\n",
       "      <td>[tt0814255, tt0409847, tt1446714, tt4154756]</td>\n",
       "      <td>[0.5, 0.5, 0.5, 0.5]</td>\n",
       "    </tr>\n",
       "    <tr>\n",
       "      <th>...</th>\n",
       "      <td>...</td>\n",
       "      <td>...</td>\n",
       "      <td>...</td>\n",
       "      <td>...</td>\n",
       "    </tr>\n",
       "    <tr>\n",
       "      <th>711145</th>\n",
       "      <td>162533</td>\n",
       "      <td>tt0780504</td>\n",
       "      <td>[tt0286716, tt0286106, tt1037705, tt1318514, t...</td>\n",
       "      <td>[1.0, 1.5, 1.5, 1.5, 2.0, 2.0, 2.0, 2.0, 2.0, ...</td>\n",
       "    </tr>\n",
       "    <tr>\n",
       "      <th>711146</th>\n",
       "      <td>162533</td>\n",
       "      <td>tt0120737</td>\n",
       "      <td>[tt0286716, tt0286106, tt1037705, tt1318514, t...</td>\n",
       "      <td>[1.0, 1.5, 1.5, 1.5, 2.0, 2.0, 2.0, 2.0, 2.0, ...</td>\n",
       "    </tr>\n",
       "    <tr>\n",
       "      <th>711147</th>\n",
       "      <td>162533</td>\n",
       "      <td>tt0167261</td>\n",
       "      <td>[tt0286716, tt0286106, tt1037705, tt1318514, t...</td>\n",
       "      <td>[1.0, 1.5, 1.5, 1.5, 2.0, 2.0, 2.0, 2.0, 2.0, ...</td>\n",
       "    </tr>\n",
       "    <tr>\n",
       "      <th>711148</th>\n",
       "      <td>162533</td>\n",
       "      <td>tt0335266</td>\n",
       "      <td>[tt0286716, tt0286106, tt1037705, tt1318514, t...</td>\n",
       "      <td>[1.0, 1.5, 1.5, 1.5, 2.0, 2.0, 2.0, 2.0, 2.0, ...</td>\n",
       "    </tr>\n",
       "    <tr>\n",
       "      <th>711149</th>\n",
       "      <td>162533</td>\n",
       "      <td>tt0167260</td>\n",
       "      <td>[tt0286716, tt0286106, tt1037705, tt1318514, t...</td>\n",
       "      <td>[1.0, 1.5, 1.5, 1.5, 2.0, 2.0, 2.0, 2.0, 2.0, ...</td>\n",
       "    </tr>\n",
       "  </tbody>\n",
       "</table>\n",
       "<p>711150 rows × 4 columns</p>\n",
       "</div>"
      ],
      "text/plain": [
       "        userId positive_movieId  \\\n",
       "0            4        tt0449010   \n",
       "1            4        tt0844471   \n",
       "2            4        tt1228705   \n",
       "3            4        tt0926084   \n",
       "4            4        tt1133985   \n",
       "...        ...              ...   \n",
       "711145  162533        tt0780504   \n",
       "711146  162533        tt0120737   \n",
       "711147  162533        tt0167261   \n",
       "711148  162533        tt0335266   \n",
       "711149  162533        tt0167260   \n",
       "\n",
       "                                        negative_movieIds  \\\n",
       "0            [tt0814255, tt0409847, tt1446714, tt4154756]   \n",
       "1            [tt0814255, tt0409847, tt1446714, tt4154756]   \n",
       "2            [tt0814255, tt0409847, tt1446714, tt4154756]   \n",
       "3            [tt0814255, tt0409847, tt1446714, tt4154756]   \n",
       "4            [tt0814255, tt0409847, tt1446714, tt4154756]   \n",
       "...                                                   ...   \n",
       "711145  [tt0286716, tt0286106, tt1037705, tt1318514, t...   \n",
       "711146  [tt0286716, tt0286106, tt1037705, tt1318514, t...   \n",
       "711147  [tt0286716, tt0286106, tt1037705, tt1318514, t...   \n",
       "711148  [tt0286716, tt0286106, tt1037705, tt1318514, t...   \n",
       "711149  [tt0286716, tt0286106, tt1037705, tt1318514, t...   \n",
       "\n",
       "                                         negative_ratings  \n",
       "0                                    [0.5, 0.5, 0.5, 0.5]  \n",
       "1                                    [0.5, 0.5, 0.5, 0.5]  \n",
       "2                                    [0.5, 0.5, 0.5, 0.5]  \n",
       "3                                    [0.5, 0.5, 0.5, 0.5]  \n",
       "4                                    [0.5, 0.5, 0.5, 0.5]  \n",
       "...                                                   ...  \n",
       "711145  [1.0, 1.5, 1.5, 1.5, 2.0, 2.0, 2.0, 2.0, 2.0, ...  \n",
       "711146  [1.0, 1.5, 1.5, 1.5, 2.0, 2.0, 2.0, 2.0, 2.0, ...  \n",
       "711147  [1.0, 1.5, 1.5, 1.5, 2.0, 2.0, 2.0, 2.0, 2.0, ...  \n",
       "711148  [1.0, 1.5, 1.5, 1.5, 2.0, 2.0, 2.0, 2.0, 2.0, ...  \n",
       "711149  [1.0, 1.5, 1.5, 1.5, 2.0, 2.0, 2.0, 2.0, 2.0, ...  \n",
       "\n",
       "[711150 rows x 4 columns]"
      ]
     },
     "execution_count": 27,
     "metadata": {},
     "output_type": "execute_result"
    }
   ],
   "source": [
    "triplet_df"
   ]
  },
  {
   "cell_type": "code",
   "execution_count": 28,
   "metadata": {},
   "outputs": [
    {
     "data": {
      "text/html": [
       "<div>\n",
       "<style scoped>\n",
       "    .dataframe tbody tr th:only-of-type {\n",
       "        vertical-align: middle;\n",
       "    }\n",
       "\n",
       "    .dataframe tbody tr th {\n",
       "        vertical-align: top;\n",
       "    }\n",
       "\n",
       "    .dataframe thead th {\n",
       "        text-align: right;\n",
       "    }\n",
       "</style>\n",
       "<table border=\"1\" class=\"dataframe\">\n",
       "  <thead>\n",
       "    <tr style=\"text-align: right;\">\n",
       "      <th></th>\n",
       "      <th>userId</th>\n",
       "      <th>positive_movieId</th>\n",
       "      <th>negative_movieIds</th>\n",
       "      <th>negative_ratings</th>\n",
       "    </tr>\n",
       "  </thead>\n",
       "  <tbody>\n",
       "    <tr>\n",
       "      <th>0</th>\n",
       "      <td>4</td>\n",
       "      <td>tt0449010</td>\n",
       "      <td>[tt0814255, tt0409847, tt1446714, tt4154756]</td>\n",
       "      <td>[0.5, 0.5, 0.5, 0.5]</td>\n",
       "    </tr>\n",
       "    <tr>\n",
       "      <th>1</th>\n",
       "      <td>4</td>\n",
       "      <td>tt0844471</td>\n",
       "      <td>[tt0814255, tt0409847, tt1446714, tt4154756]</td>\n",
       "      <td>[0.5, 0.5, 0.5, 0.5]</td>\n",
       "    </tr>\n",
       "    <tr>\n",
       "      <th>2</th>\n",
       "      <td>4</td>\n",
       "      <td>tt1228705</td>\n",
       "      <td>[tt0814255, tt0409847, tt1446714, tt4154756]</td>\n",
       "      <td>[0.5, 0.5, 0.5, 0.5]</td>\n",
       "    </tr>\n",
       "    <tr>\n",
       "      <th>3</th>\n",
       "      <td>4</td>\n",
       "      <td>tt0926084</td>\n",
       "      <td>[tt0814255, tt0409847, tt1446714, tt4154756]</td>\n",
       "      <td>[0.5, 0.5, 0.5, 0.5]</td>\n",
       "    </tr>\n",
       "    <tr>\n",
       "      <th>4</th>\n",
       "      <td>4</td>\n",
       "      <td>tt1133985</td>\n",
       "      <td>[tt0814255, tt0409847, tt1446714, tt4154756]</td>\n",
       "      <td>[0.5, 0.5, 0.5, 0.5]</td>\n",
       "    </tr>\n",
       "    <tr>\n",
       "      <th>...</th>\n",
       "      <td>...</td>\n",
       "      <td>...</td>\n",
       "      <td>...</td>\n",
       "      <td>...</td>\n",
       "    </tr>\n",
       "    <tr>\n",
       "      <th>711145</th>\n",
       "      <td>162533</td>\n",
       "      <td>tt0780504</td>\n",
       "      <td>[tt0286716, tt0286106, tt1037705, tt1318514, t...</td>\n",
       "      <td>[1.0, 1.5, 1.5, 1.5, 2.0, 2.0, 2.0, 2.0, 2.0, ...</td>\n",
       "    </tr>\n",
       "    <tr>\n",
       "      <th>711146</th>\n",
       "      <td>162533</td>\n",
       "      <td>tt0120737</td>\n",
       "      <td>[tt0286716, tt0286106, tt1037705, tt1318514, t...</td>\n",
       "      <td>[1.0, 1.5, 1.5, 1.5, 2.0, 2.0, 2.0, 2.0, 2.0, ...</td>\n",
       "    </tr>\n",
       "    <tr>\n",
       "      <th>711147</th>\n",
       "      <td>162533</td>\n",
       "      <td>tt0167261</td>\n",
       "      <td>[tt0286716, tt0286106, tt1037705, tt1318514, t...</td>\n",
       "      <td>[1.0, 1.5, 1.5, 1.5, 2.0, 2.0, 2.0, 2.0, 2.0, ...</td>\n",
       "    </tr>\n",
       "    <tr>\n",
       "      <th>711148</th>\n",
       "      <td>162533</td>\n",
       "      <td>tt0335266</td>\n",
       "      <td>[tt0286716, tt0286106, tt1037705, tt1318514, t...</td>\n",
       "      <td>[1.0, 1.5, 1.5, 1.5, 2.0, 2.0, 2.0, 2.0, 2.0, ...</td>\n",
       "    </tr>\n",
       "    <tr>\n",
       "      <th>711149</th>\n",
       "      <td>162533</td>\n",
       "      <td>tt0167260</td>\n",
       "      <td>[tt0286716, tt0286106, tt1037705, tt1318514, t...</td>\n",
       "      <td>[1.0, 1.5, 1.5, 1.5, 2.0, 2.0, 2.0, 2.0, 2.0, ...</td>\n",
       "    </tr>\n",
       "  </tbody>\n",
       "</table>\n",
       "<p>711150 rows × 4 columns</p>\n",
       "</div>"
      ],
      "text/plain": [
       "        userId positive_movieId  \\\n",
       "0            4        tt0449010   \n",
       "1            4        tt0844471   \n",
       "2            4        tt1228705   \n",
       "3            4        tt0926084   \n",
       "4            4        tt1133985   \n",
       "...        ...              ...   \n",
       "711145  162533        tt0780504   \n",
       "711146  162533        tt0120737   \n",
       "711147  162533        tt0167261   \n",
       "711148  162533        tt0335266   \n",
       "711149  162533        tt0167260   \n",
       "\n",
       "                                        negative_movieIds  \\\n",
       "0            [tt0814255, tt0409847, tt1446714, tt4154756]   \n",
       "1            [tt0814255, tt0409847, tt1446714, tt4154756]   \n",
       "2            [tt0814255, tt0409847, tt1446714, tt4154756]   \n",
       "3            [tt0814255, tt0409847, tt1446714, tt4154756]   \n",
       "4            [tt0814255, tt0409847, tt1446714, tt4154756]   \n",
       "...                                                   ...   \n",
       "711145  [tt0286716, tt0286106, tt1037705, tt1318514, t...   \n",
       "711146  [tt0286716, tt0286106, tt1037705, tt1318514, t...   \n",
       "711147  [tt0286716, tt0286106, tt1037705, tt1318514, t...   \n",
       "711148  [tt0286716, tt0286106, tt1037705, tt1318514, t...   \n",
       "711149  [tt0286716, tt0286106, tt1037705, tt1318514, t...   \n",
       "\n",
       "                                         negative_ratings  \n",
       "0                                    [0.5, 0.5, 0.5, 0.5]  \n",
       "1                                    [0.5, 0.5, 0.5, 0.5]  \n",
       "2                                    [0.5, 0.5, 0.5, 0.5]  \n",
       "3                                    [0.5, 0.5, 0.5, 0.5]  \n",
       "4                                    [0.5, 0.5, 0.5, 0.5]  \n",
       "...                                                   ...  \n",
       "711145  [1.0, 1.5, 1.5, 1.5, 2.0, 2.0, 2.0, 2.0, 2.0, ...  \n",
       "711146  [1.0, 1.5, 1.5, 1.5, 2.0, 2.0, 2.0, 2.0, 2.0, ...  \n",
       "711147  [1.0, 1.5, 1.5, 1.5, 2.0, 2.0, 2.0, 2.0, 2.0, ...  \n",
       "711148  [1.0, 1.5, 1.5, 1.5, 2.0, 2.0, 2.0, 2.0, 2.0, ...  \n",
       "711149  [1.0, 1.5, 1.5, 1.5, 2.0, 2.0, 2.0, 2.0, 2.0, ...  \n",
       "\n",
       "[711150 rows x 4 columns]"
      ]
     },
     "execution_count": 28,
     "metadata": {},
     "output_type": "execute_result"
    }
   ],
   "source": [
    "df = pd.read_hdf('../data/ranking_train.h5')\n",
    "df"
   ]
  },
  {
   "cell_type": "markdown",
   "metadata": {},
   "source": [
    "Check how many negatives per positive"
   ]
  },
  {
   "cell_type": "code",
   "execution_count": 29,
   "metadata": {},
   "outputs": [
    {
     "data": {
      "text/plain": [
       "<AxesSubplot:>"
      ]
     },
     "execution_count": 29,
     "metadata": {},
     "output_type": "execute_result"
    },
    {
     "data": {
      "image/png": "[encoded data removed]",
      "text/plain": [
       "<Figure size 432x288 with 1 Axes>"
      ]
     },
     "metadata": {
      "needs_background": "light"
     },
     "output_type": "display_data"
    }
   ],
   "source": [
    "df['negative_ratings'].apply(lambda x: len(x)).hist()"
   ]
  },
  {
   "cell_type": "code",
   "execution_count": 30,
   "metadata": {},
   "outputs": [],
   "source": [
    "# pd.Series(options).hist(bins=20)"
   ]
  },
  {
   "cell_type": "code",
   "execution_count": 31,
   "metadata": {},
   "outputs": [],
   "source": [
    "# list(movies_df['primaryTitle'].values)"
   ]
  }
 ],
 "metadata": {
  "kernelspec": {
   "display_name": "Python 3 (ipykernel)",
   "language": "python",
   "name": "python3"
  },
  "language_info": {
   "codemirror_mode": {
    "name": "ipython",
    "version": 3
   },
   "file_extension": ".py",
   "mimetype": "text/x-python",
   "name": "python",
   "nbconvert_exporter": "python",
   "pygments_lexer": "ipython3",
   "version": "3.9.0"
  }
 },
 "nbformat": 4,
 "nbformat_minor": 4
}
