{
 "cells": [
  {
   "cell_type": "markdown",
   "id": "33970358-3615-440a-93bf-45999ebfcbba",
   "metadata": {},
   "source": [
    "# Get text plots for movies"
   ]
  },
  {
   "cell_type": "code",
   "execution_count": 46,
   "id": "98f2ab16-bae3-4825-81e3-f1739ba80dd6",
   "metadata": {},
   "outputs": [],
   "source": [
    "import pandas as pd\n",
    "import requests\n",
    "from tqdm import tqdm\n",
    "\n",
    "from globals import item_metadata_file, imdb_path"
   ]
  },
  {
   "cell_type": "code",
   "execution_count": 4,
   "id": "77e4d75e-8bd2-489f-8779-b4cf5935ccf8",
   "metadata": {},
   "outputs": [],
   "source": [
    "# load metadata\n",
    "metadata = pd.read_hdf(item_metadata_file + '.h5', key='metadata')"
   ]
  },
  {
   "cell_type": "code",
   "execution_count": 6,
   "id": "c3092107-85a3-4565-baba-fcf880927e14",
   "metadata": {},
   "outputs": [
    {
     "data": {
      "text/plain": [
       "Index(['tt0180093', 'tt0118694', 'tt0203009', 'tt0211915', 'tt0287467',\n",
       "       'tt0167261', 'tt0317248', 'tt0266543', 'tt0325980', 'tt0335266',\n",
       "       ...\n",
       "       'tt5095030', 'tt1142988', 'tt0425123', 'tt1059786', 'tt1588173',\n",
       "       'tt2293640', 'tt1855199', 'tt0780521', 'tt1655442', 'tt0335119'],\n",
       "      dtype='object', length=1073)"
      ]
     },
     "execution_count": 6,
     "metadata": {},
     "output_type": "execute_result"
    }
   ],
   "source": [
    "metadata.index"
   ]
  },
  {
   "cell_type": "code",
   "execution_count": null,
   "id": "024bab90-71e1-4fe3-aab0-016550726bb0",
   "metadata": {},
   "outputs": [],
   "source": [
    "plots = {}"
   ]
  },
  {
   "cell_type": "code",
   "execution_count": 38,
   "id": "987a6981-5698-4df2-988f-1e4fb1501ade",
   "metadata": {},
   "outputs": [],
   "source": [
    "def get_plot(imdbID, api_key='2438a607'):  # keys: a2ed3a33, 51ed9c6b, 2438a607\n",
    "    url = f'http://www.omdbapi.com/?i={imdbID}&plot=full&apikey={api_key}'\n",
    "    resp = requests.get(url=url)\n",
    "    data = resp.json()\n",
    "    if data['Response'] != 'False':\n",
    "        return data['Plot']\n",
    "    else:\n",
    "        return ''"
   ]
  },
  {
   "cell_type": "code",
   "execution_count": 39,
   "id": "7f176b07-7de7-4c10-ab2c-29fb200482ed",
   "metadata": {},
   "outputs": [
    {
     "name": "stderr",
     "output_type": "stream",
     "text": [
      "100%|██████████████████████████████████████████████████████████████████████████████████████████████████████████████████████████████████████████████████████████████████████████████████████████████| 1073/1073 [00:17<00:00, 61.55it/s]\n"
     ]
    }
   ],
   "source": [
    "for imdbID in tqdm(metadata.index, total=len(metadata.index)):\n",
    "    if imdbID not in plots or plots[imdbID] == '':\n",
    "        plots[imdbID] = get_plot(imdbID)    "
   ]
  },
  {
   "cell_type": "code",
   "execution_count": 40,
   "id": "7b789ae3-0e21-499e-992e-3e4f7a9b68ed",
   "metadata": {},
   "outputs": [
    {
     "data": {
      "text/plain": [
       "tt0180093    Sara Goldfarb (Ellen Burstyn) is a retired wid...\n",
       "tt0118694    Set in Hong Kong, 1962, Chow Mo-Wan is a newsp...\n",
       "tt0203009    The year is 1899, and Christian, a young Engli...\n",
       "tt0211915    Amélie is a story about a girl named Amélie wh...\n",
       "tt0287467    After a chance encounter at a theater, two men...\n",
       "                                   ...                        \n",
       "tt2293640    Ever since the dawn of time, the Minions have ...\n",
       "tt1855199    In South Central Los Angeles, street cops Bria...\n",
       "tt0780521    A modern day retelling of the classic story Th...\n",
       "tt1655442    Outside a movie premiere, enthusiastic fan Pep...\n",
       "tt0335119    This film, adapted from a work of fiction by a...\n",
       "Length: 1073, dtype: object"
      ]
     },
     "execution_count": 40,
     "metadata": {},
     "output_type": "execute_result"
    }
   ],
   "source": [
    "plots_df = pd.Series(plots)\n",
    "plots_df"
   ]
  },
  {
   "cell_type": "code",
   "execution_count": 45,
   "id": "0aecc5f4-ce1e-431d-b8e3-f2358d5ee7ae",
   "metadata": {},
   "outputs": [
    {
     "data": {
      "text/plain": [
       "<AxesSubplot:>"
      ]
     },
     "execution_count": 45,
     "metadata": {},
     "output_type": "execute_result"
    },
    {
     "data": {
      "image/png": "[encoded data removed]",
      "text/plain": [
       "<Figure size 432x288 with 1 Axes>"
      ]
     },
     "metadata": {
      "needs_background": "light"
     },
     "output_type": "display_data"
    }
   ],
   "source": [
    "plots_df.apply(lambda x: len(x.split())).hist()"
   ]
  },
  {
   "cell_type": "code",
   "execution_count": 43,
   "id": "4f94b8b9-92e3-4b14-ac74-3e4e2c3d01fd",
   "metadata": {},
   "outputs": [],
   "source": [
    "plots_df.to_csv('../data/text_plots.csv', header=None)"
   ]
  },
  {
   "cell_type": "markdown",
   "id": "cff4e47c-18d1-4efb-a378-ec77d8ee310a",
   "metadata": {},
   "source": [
    "### Save potentially useful info"
   ]
  },
  {
   "cell_type": "code",
   "execution_count": 50,
   "id": "5c0743bd-d712-4c56-b827-2095dd4b1a12",
   "metadata": {},
   "outputs": [
    {
     "name": "stderr",
     "output_type": "stream",
     "text": [
      "C:\\Users\\mikem\\AppData\\Local\\Temp/ipykernel_4332/2206609681.py:5: DtypeWarning: Columns (7) have mixed types.Specify dtype option on import or set low_memory=False.\n",
      "  df = load_imdb_titles(plots_df.index)\n"
     ]
    }
   ],
   "source": [
    "def load_imdb_titles(imdbIDs, usecols=('tconst', 'primaryTitle', 'originalTitle', 'runtimeMinutes', 'genres', 'startYear')):\n",
    "    df = pd.read_csv(imdb_path + 'title.basics.tsv', index_col='tconst', sep='\\t', usecols=usecols, encoding='utf-8', keep_default_na=False, na_values=['\\\\N']).loc[imdbIDs]\n",
    "    return df\n",
    "\n",
    "df = load_imdb_titles(plots_df.index)"
   ]
  },
  {
   "cell_type": "code",
   "execution_count": 52,
   "id": "4f108d96-7e81-4c6d-898c-fd2323f6fc62",
   "metadata": {},
   "outputs": [
    {
     "data": {
      "text/html": [
       "<div>\n",
       "<style scoped>\n",
       "    .dataframe tbody tr th:only-of-type {\n",
       "        vertical-align: middle;\n",
       "    }\n",
       "\n",
       "    .dataframe tbody tr th {\n",
       "        vertical-align: top;\n",
       "    }\n",
       "\n",
       "    .dataframe thead th {\n",
       "        text-align: right;\n",
       "    }\n",
       "</style>\n",
       "<table border=\"1\" class=\"dataframe\">\n",
       "  <thead>\n",
       "    <tr style=\"text-align: right;\">\n",
       "      <th></th>\n",
       "      <th>primaryTitle</th>\n",
       "      <th>originalTitle</th>\n",
       "      <th>startYear</th>\n",
       "      <th>runtimeMinutes</th>\n",
       "      <th>genres</th>\n",
       "      <th>Plot</th>\n",
       "    </tr>\n",
       "  </thead>\n",
       "  <tbody>\n",
       "    <tr>\n",
       "      <th>tt0180093</th>\n",
       "      <td>Requiem for a Dream</td>\n",
       "      <td>Requiem for a Dream</td>\n",
       "      <td>2000.0</td>\n",
       "      <td>102.0</td>\n",
       "      <td>Drama</td>\n",
       "      <td>Sara Goldfarb (Ellen Burstyn) is a retired wid...</td>\n",
       "    </tr>\n",
       "    <tr>\n",
       "      <th>tt0118694</th>\n",
       "      <td>In the Mood for Love</td>\n",
       "      <td>Fa yeung nin wah</td>\n",
       "      <td>2000.0</td>\n",
       "      <td>98.0</td>\n",
       "      <td>Drama,Romance</td>\n",
       "      <td>Set in Hong Kong, 1962, Chow Mo-Wan is a newsp...</td>\n",
       "    </tr>\n",
       "    <tr>\n",
       "      <th>tt0203009</th>\n",
       "      <td>Moulin Rouge!</td>\n",
       "      <td>Moulin Rouge!</td>\n",
       "      <td>2001.0</td>\n",
       "      <td>127.0</td>\n",
       "      <td>Drama,Musical,Romance</td>\n",
       "      <td>The year is 1899, and Christian, a young Engli...</td>\n",
       "    </tr>\n",
       "    <tr>\n",
       "      <th>tt0211915</th>\n",
       "      <td>Amélie</td>\n",
       "      <td>Le fabuleux destin d'Amélie Poulain</td>\n",
       "      <td>2001.0</td>\n",
       "      <td>122.0</td>\n",
       "      <td>Comedy,Romance</td>\n",
       "      <td>Amélie is a story about a girl named Amélie wh...</td>\n",
       "    </tr>\n",
       "    <tr>\n",
       "      <th>tt0287467</th>\n",
       "      <td>Talk to Her</td>\n",
       "      <td>Hable con ella</td>\n",
       "      <td>2002.0</td>\n",
       "      <td>112.0</td>\n",
       "      <td>Drama,Mystery,Romance</td>\n",
       "      <td>After a chance encounter at a theater, two men...</td>\n",
       "    </tr>\n",
       "    <tr>\n",
       "      <th>...</th>\n",
       "      <td>...</td>\n",
       "      <td>...</td>\n",
       "      <td>...</td>\n",
       "      <td>...</td>\n",
       "      <td>...</td>\n",
       "      <td>...</td>\n",
       "    </tr>\n",
       "    <tr>\n",
       "      <th>tt2293640</th>\n",
       "      <td>Minions</td>\n",
       "      <td>Minions</td>\n",
       "      <td>2015.0</td>\n",
       "      <td>91.0</td>\n",
       "      <td>Adventure,Animation,Comedy</td>\n",
       "      <td>Ever since the dawn of time, the Minions have ...</td>\n",
       "    </tr>\n",
       "    <tr>\n",
       "      <th>tt1855199</th>\n",
       "      <td>End of Watch</td>\n",
       "      <td>End of Watch</td>\n",
       "      <td>2012.0</td>\n",
       "      <td>109.0</td>\n",
       "      <td>Action,Adventure,Crime</td>\n",
       "      <td>In South Central Los Angeles, street cops Bria...</td>\n",
       "    </tr>\n",
       "    <tr>\n",
       "      <th>tt0780521</th>\n",
       "      <td>The Princess and the Frog</td>\n",
       "      <td>The Princess and the Frog</td>\n",
       "      <td>2009.0</td>\n",
       "      <td>97.0</td>\n",
       "      <td>Adventure,Animation,Comedy</td>\n",
       "      <td>A modern day retelling of the classic story Th...</td>\n",
       "    </tr>\n",
       "    <tr>\n",
       "      <th>tt1655442</th>\n",
       "      <td>The Artist</td>\n",
       "      <td>The Artist</td>\n",
       "      <td>2011.0</td>\n",
       "      <td>100.0</td>\n",
       "      <td>Comedy,Drama,Romance</td>\n",
       "      <td>Outside a movie premiere, enthusiastic fan Pep...</td>\n",
       "    </tr>\n",
       "    <tr>\n",
       "      <th>tt0335119</th>\n",
       "      <td>Girl with a Pearl Earring</td>\n",
       "      <td>Girl with a Pearl Earring</td>\n",
       "      <td>2003.0</td>\n",
       "      <td>100.0</td>\n",
       "      <td>Biography,Drama,Romance</td>\n",
       "      <td>This film, adapted from a work of fiction by a...</td>\n",
       "    </tr>\n",
       "  </tbody>\n",
       "</table>\n",
       "<p>1073 rows × 6 columns</p>\n",
       "</div>"
      ],
      "text/plain": [
       "                        primaryTitle                        originalTitle  \\\n",
       "tt0180093        Requiem for a Dream                  Requiem for a Dream   \n",
       "tt0118694       In the Mood for Love                     Fa yeung nin wah   \n",
       "tt0203009              Moulin Rouge!                        Moulin Rouge!   \n",
       "tt0211915                     Amélie  Le fabuleux destin d'Amélie Poulain   \n",
       "tt0287467                Talk to Her                       Hable con ella   \n",
       "...                              ...                                  ...   \n",
       "tt2293640                    Minions                              Minions   \n",
       "tt1855199               End of Watch                         End of Watch   \n",
       "tt0780521  The Princess and the Frog            The Princess and the Frog   \n",
       "tt1655442                 The Artist                           The Artist   \n",
       "tt0335119  Girl with a Pearl Earring            Girl with a Pearl Earring   \n",
       "\n",
       "           startYear runtimeMinutes                      genres  \\\n",
       "tt0180093     2000.0          102.0                       Drama   \n",
       "tt0118694     2000.0           98.0               Drama,Romance   \n",
       "tt0203009     2001.0          127.0       Drama,Musical,Romance   \n",
       "tt0211915     2001.0          122.0              Comedy,Romance   \n",
       "tt0287467     2002.0          112.0       Drama,Mystery,Romance   \n",
       "...              ...            ...                         ...   \n",
       "tt2293640     2015.0           91.0  Adventure,Animation,Comedy   \n",
       "tt1855199     2012.0          109.0      Action,Adventure,Crime   \n",
       "tt0780521     2009.0           97.0  Adventure,Animation,Comedy   \n",
       "tt1655442     2011.0          100.0        Comedy,Drama,Romance   \n",
       "tt0335119     2003.0          100.0     Biography,Drama,Romance   \n",
       "\n",
       "                                                        Plot  \n",
       "tt0180093  Sara Goldfarb (Ellen Burstyn) is a retired wid...  \n",
       "tt0118694  Set in Hong Kong, 1962, Chow Mo-Wan is a newsp...  \n",
       "tt0203009  The year is 1899, and Christian, a young Engli...  \n",
       "tt0211915  Amélie is a story about a girl named Amélie wh...  \n",
       "tt0287467  After a chance encounter at a theater, two men...  \n",
       "...                                                      ...  \n",
       "tt2293640  Ever since the dawn of time, the Minions have ...  \n",
       "tt1855199  In South Central Los Angeles, street cops Bria...  \n",
       "tt0780521  A modern day retelling of the classic story Th...  \n",
       "tt1655442  Outside a movie premiere, enthusiastic fan Pep...  \n",
       "tt0335119  This film, adapted from a work of fiction by a...  \n",
       "\n",
       "[1073 rows x 6 columns]"
      ]
     },
     "execution_count": 52,
     "metadata": {},
     "output_type": "execute_result"
    }
   ],
   "source": [
    "df['Plot'] = plots_df\n",
    "df"
   ]
  },
  {
   "cell_type": "code",
   "execution_count": 53,
   "id": "2c131382-fc17-4891-b8da-dfb25205ea77",
   "metadata": {},
   "outputs": [],
   "source": [
    "df.to_csv('../data/moivie_info.csv')"
   ]
  }
 ],
 "metadata": {
  "kernelspec": {
   "display_name": "Python 3 (ipykernel)",
   "language": "python",
   "name": "python3"
  },
  "language_info": {
   "codemirror_mode": {
    "name": "ipython",
    "version": 3
   },
   "file_extension": ".py",
   "mimetype": "text/x-python",
   "name": "python",
   "nbconvert_exporter": "python",
   "pygments_lexer": "ipython3",
   "version": "3.9.7"
  }
 },
 "nbformat": 4,
 "nbformat_minor": 5
}
